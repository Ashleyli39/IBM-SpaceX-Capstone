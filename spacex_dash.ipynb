{
 "cells": [
  {
   "cell_type": "code",
   "execution_count": 1,
   "id": "7051ef92",
   "metadata": {},
   "outputs": [
    {
     "data": {
      "text/plain": [
       "'\\nBuild a Dashboard Application with Plotly Dash\\n----------------------------------------------\\nIn this lab, you will be building a Plotly Dash \\napplication for users to perform interactive visual analytics \\non SpaceX launch data in real-time.\\n'"
      ]
     },
     "execution_count": 1,
     "metadata": {},
     "output_type": "execute_result"
    }
   ],
   "source": [
    "'''\n",
    "Build a Dashboard Application with Plotly Dash\n",
    "----------------------------------------------\n",
    "In this lab, you will be building a Plotly Dash \n",
    "application for users to perform interactive visual analytics \n",
    "on SpaceX launch data in real-time.\n",
    "'''"
   ]
  },
  {
   "cell_type": "code",
   "execution_count": 1,
   "id": "71f8af9e",
   "metadata": {},
   "outputs": [
    {
     "name": "stderr",
     "output_type": "stream",
     "text": [
      "<ipython-input-1-a1680cea8715>:2: UserWarning: \n",
      "The dash_html_components package is deprecated. Please replace\n",
      "`import dash_html_components as html` with `from dash import html`\n",
      "  import dash_html_components as html\n",
      "<ipython-input-1-a1680cea8715>:3: UserWarning: \n",
      "The dash_core_components package is deprecated. Please replace\n",
      "`import dash_core_components as dcc` with `from dash import dcc`\n",
      "  import dash_core_components as dcc\n"
     ]
    }
   ],
   "source": [
    "import dash\n",
    "import dash_html_components as html\n",
    "import dash_core_components as dcc\n",
    "from dash.dependencies import Input, Output\n",
    "import pandas as pd\n",
    "import plotly.express as px"
   ]
  },
  {
   "cell_type": "code",
   "execution_count": 2,
   "id": "156dc41e",
   "metadata": {},
   "outputs": [],
   "source": [
    "external_stylesheets = ['https://codepen.io/chriddyp/pen/bWLwgP.css']\n",
    "app = dash.Dash(__name__, external_stylesheets=external_stylesheets)"
   ]
  },
  {
   "cell_type": "code",
   "execution_count": 3,
   "id": "20220e62",
   "metadata": {},
   "outputs": [
    {
     "name": "stdout",
     "output_type": "stream",
     "text": [
      "Dash is running on http://127.0.0.1:8050/\n",
      "\n",
      "Dash is running on http://127.0.0.1:8050/\n",
      "\n",
      " * Serving Flask app \"__main__\" (lazy loading)\n",
      " * Environment: production\n",
      "\u001b[31m   WARNING: This is a development server. Do not use it in a production deployment.\u001b[0m\n",
      "\u001b[2m   Use a production WSGI server instead.\u001b[0m\n",
      " * Debug mode: on\n"
     ]
    },
    {
     "ename": "SystemExit",
     "evalue": "1",
     "output_type": "error",
     "traceback": [
      "An exception has occurred, use %tb to see the full traceback.\n",
      "\u001b[0;31mSystemExit\u001b[0m\u001b[0;31m:\u001b[0m 1\n"
     ]
    },
    {
     "name": "stderr",
     "output_type": "stream",
     "text": [
      "/Users/qingyili/opt/anaconda3/lib/python3.8/site-packages/IPython/core/interactiveshell.py:3445: UserWarning: To exit: use 'exit', 'quit', or Ctrl-D.\n",
      "  warn(\"To exit: use 'exit', 'quit', or Ctrl-D.\", stacklevel=1)\n"
     ]
    }
   ],
   "source": [
    "# Read the airline data into pandas dataframe\n",
    "spacex_df = pd.read_csv(\"/Users/qingyili/Documents/Data Science Course/IBM Data Science Certificate/Capstone Code/Week 3/spacex_launch_dash.csv\")\n",
    "max_payload = spacex_df['Payload Mass (kg)'].max()\n",
    "min_payload = spacex_df['Payload Mass (kg)'].min()\n",
    "\n",
    "unique_launch_sites = spacex_df['Launch Site'].unique().tolist()\n",
    "launch_sites = []\n",
    "launch_sites.append({'label': 'All Sites', 'value': 'All Sites'})\n",
    "for launch_site in unique_launch_sites:\n",
    "    launch_sites.append({'label': launch_site, 'value': launch_site})\n",
    "\n",
    "# Create a dash application\n",
    "app = dash.Dash(__name__)\n",
    "\n",
    "# Create an app layout\n",
    "app.layout = html.Div(children=[\n",
    "    html.Div([\n",
    "        html.H1('SpaceX Launch Records Dashboard',\n",
    "            style={'textAlign': 'center', 'color': '#503D36','font-size': 40}),\n",
    "    ]),\n",
    "    \n",
    "    html.Div([\n",
    "        # TASK 1: Add a Launch Site Drop-down Input Component\n",
    "        dcc.Dropdown(\n",
    "                id = 'site-dropdown',\n",
    "                options = launch_sites,\n",
    "                placeholder = 'Select a Launch Site here',\n",
    "                searchable = True ,\n",
    "                clearable = False,\n",
    "                value = 'All Sites'\n",
    "            ),\n",
    "        # TASK 2: Add a callback function to render success-pie-chart based on selected site dropdown\n",
    "        html.Div(dcc.Graph(id='success-pie-chart')),\n",
    "    ], style={'padding': '0 30px'}),\n",
    "\n",
    "    html.Div([\n",
    "        # TASK 3: Add a Range Slider to Select Payload\n",
    "        html.Div(\"Payload range (Kg):\", \n",
    "            style={'color': '#503D36','font-size': 20, 'padding': '0 30px', 'margin-left': '11px'}\n",
    "            ),\n",
    "        html.Div([\n",
    "            dcc.RangeSlider(\n",
    "                id = 'payload_slider',\n",
    "                min = 0,\n",
    "                max = 10000,\n",
    "                step = 1000,\n",
    "                marks = {\n",
    "                        0: {'label': '0 Kg', 'style': {'color': '#77b0b1'}},\n",
    "                        1000: {'label': '1000 Kg'},\n",
    "                        2000: {'label': '2000 Kg'},\n",
    "                        3000: {'label': '3000 Kg'},\n",
    "                        4000: {'label': '4000 Kg'},\n",
    "                        5000: {'label': '5000 Kg'},\n",
    "                        6000: {'label': '6000 Kg'},\n",
    "                        7000: {'label': '7000 Kg'},\n",
    "                        8000: {'label': '8000 Kg'},\n",
    "                        9000: {'label': '9000 Kg'},\n",
    "                        10000: {'label': '10000 Kg', 'style': {'color': '#f50'}},\n",
    "                },\n",
    "                value = [min_payload,max_payload]\n",
    "            ),\n",
    "        ], style={'padding': '40px 30px'}),\n",
    "\n",
    "        # TASK 4: Add a callback function to render the success-payload-scatter-chart scatter plot\n",
    "        html.Div(dcc.Graph(id = 'success-payload-scatter-chart')),\n",
    "    ]),\n",
    "],style={'padding': '0 20px'})\n",
    "\n",
    "# TASK 2: success-pie-chart callback based on selected site dropdown\n",
    "@app.callback(\n",
    "     Output(component_id = 'success-pie-chart', component_property = 'figure'),\n",
    "     [Input(component_id = 'site-dropdown', component_property = 'value')]\n",
    ")\n",
    "def update_piegraph(site_dropdown):\n",
    "    if (site_dropdown == 'All Sites' or site_dropdown == 'None'):\n",
    "        all_sites  = spacex_df[spacex_df['class'] == 1] # All Success only for all sites.\n",
    "        fig = px.pie(\n",
    "                all_sites,\n",
    "                names = 'Launch Site',\n",
    "                title = 'Total Success Launches by All Sites',\n",
    "                hole = .2,\n",
    "                color_discrete_sequence = px.colors.sequential.RdBu\n",
    "            )\n",
    "    else:\n",
    "        site_specific  = spacex_df.loc[spacex_df['Launch Site'] == site_dropdown]\n",
    "        fig = px.pie(\n",
    "                site_specific,\n",
    "                names = 'class',\n",
    "                title = 'Total Success Launches for Site &#8608; '+site_dropdown,\n",
    "                hole = .2\n",
    "            )\n",
    "    return fig\n",
    "\n",
    "# TASK 3, 4: Range Slider or Scatter Chart Callback\n",
    "@app.callback(\n",
    "     Output(component_id = 'success-payload-scatter-chart', component_property = 'figure'),\n",
    "     [Input(component_id = 'site-dropdown', component_property = 'value'), \n",
    "     Input(component_id = \"payload_slider\", component_property = \"value\")]\n",
    ")\n",
    "def update_scattergraph(site_dropdown,payload_slider):\n",
    "    if (site_dropdown == 'All Sites' or site_dropdown == 'None'):\n",
    "        low, high = payload_slider\n",
    "        all_sites  = spacex_df\n",
    "        inrange = (all_sites['Payload Mass (kg)'] > low) & (all_sites['Payload Mass (kg)'] < high)\n",
    "        fig = px.scatter(\n",
    "                all_sites[inrange], \n",
    "                x = \"Payload Mass (kg)\", \n",
    "                y = \"class\",\n",
    "                title = 'Correlation Between Payload and Success for All Sites',\n",
    "                color=\"Booster Version Category\",\n",
    "                size='Payload Mass (kg)',\n",
    "                hover_data=['Payload Mass (kg)']\n",
    "            )\n",
    "    else:\n",
    "        low, high = payload_slider\n",
    "        site_specific  = spacex_df.loc[spacex_df['Launch Site'] == site_dropdown]\n",
    "        inrange = (site_specific['Payload Mass (kg)'] > low) & (site_specific['Payload Mass (kg)'] < high)\n",
    "        fig = px.scatter(\n",
    "                site_specific[inrange],\n",
    "                x = \"Payload Mass (kg)\",\n",
    "                y = \"class\",\n",
    "                title = 'Correlation Between Payload and Success for Site &#8608; '+site_dropdown,\n",
    "                color=\"Booster Version Category\",\n",
    "                size='Payload Mass (kg)',\n",
    "                hover_data=['Payload Mass (kg)']\n",
    "            )\n",
    "    return fig\n",
    "\n",
    "if __name__ == '__main__':\n",
    "    app.run_server(debug=True)"
   ]
  },
  {
   "cell_type": "code",
   "execution_count": null,
   "id": "76f2e282",
   "metadata": {},
   "outputs": [],
   "source": []
  }
 ],
 "metadata": {
  "kernelspec": {
   "display_name": "Python 3",
   "language": "python",
   "name": "python3"
  },
  "language_info": {
   "codemirror_mode": {
    "name": "ipython",
    "version": 3
   },
   "file_extension": ".py",
   "mimetype": "text/x-python",
   "name": "python",
   "nbconvert_exporter": "python",
   "pygments_lexer": "ipython3",
   "version": "3.8.8"
  }
 },
 "nbformat": 4,
 "nbformat_minor": 5
}
