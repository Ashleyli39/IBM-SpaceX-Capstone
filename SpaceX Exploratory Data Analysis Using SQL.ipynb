{
 "cells": [
  {
   "cell_type": "markdown",
   "metadata": {},
   "source": [
    "<center>\n",
    "    <img src=\"https://gitlab.com/ibm/skills-network/courses/placeholder101/-/raw/master/labs/module%201/images/IDSNlogo.png\"  width=\"300\" alt=\"cognitiveclass.ai logo\"  />\n",
    "</center>\n",
    "\n",
    "<h1 align=center><font size = 5>Assignment: SQL Notebook for Peer Assignment</font></h1>\n",
    "\n",
    "Estimated time needed: **60** minutes.\n",
    "\n",
    "## Introduction\n",
    "\n",
    "Using this Python notebook you will:\n",
    "\n",
    "1.  Understand the Spacex DataSet\n",
    "2.  Load the dataset  into the corresponding table in a Db2 database\n",
    "3.  Execute SQL queries to answer assignment questions\n"
   ]
  },
  {
   "cell_type": "markdown",
   "metadata": {},
   "source": [
    "## Overview of the DataSet\n",
    "\n",
    "SpaceX has gained worldwide attention for a series of historic milestones.\n",
    "\n",
    "It is the only private company ever to return a spacecraft from low-earth orbit, which it first accomplished in December 2010.\n",
    "SpaceX advertises Falcon 9 rocket launches on its website with a cost of 62 million dollars wheras other providers cost upward of 165 million dollars each, much of the savings is because Space X can reuse the first stage.\n",
    "\n",
    "Therefore if we can determine if the first stage will land, we can determine the cost of a launch.\n",
    "\n",
    "This information can be used if an alternate company wants to bid against SpaceX for a rocket launch.\n",
    "\n",
    "This dataset includes a record for each payload carried during a SpaceX mission into outer space.\n"
   ]
  },
  {
   "cell_type": "markdown",
   "metadata": {},
   "source": [
    "### Download the datasets\n",
    "\n",
    "This assignment requires you to load the spacex dataset.\n",
    "\n",
    "In many cases the dataset to be analyzed is available as a .CSV (comma separated values) file, perhaps on the internet. Click on the link below to download and save the dataset (.CSV file):\n",
    "\n",
    "<a href=\"https://cf-courses-data.s3.us.cloud-object-storage.appdomain.cloud/IBM-DS0321EN-SkillsNetwork/labs/module_2/data/Spacex.csv?utm_medium=Exinfluencer&utm_source=Exinfluencer&utm_content=000026UJ&utm_term=10006555&utm_id=NA-SkillsNetwork-Channel-SkillsNetworkCoursesIBMDS0321ENSkillsNetwork26802033-2021-01-01\" target=\"_blank\">Spacex DataSet</a>\n"
   ]
  },
  {
   "cell_type": "markdown",
   "metadata": {},
   "source": [
    "### Store the dataset in database table\n",
    "\n",
    "**it is highly recommended to manually load the table using the database console LOAD tool in DB2**.\n",
    "\n",
    "<img src = \"https://cf-courses-data.s3.us.cloud-object-storage.appdomain.cloud/IBM-DS0321EN-SkillsNetwork/labs/module_2/images/spacexload.png\">\n",
    "\n",
    "Now open the Db2 console, open the LOAD tool, Select / Drag the .CSV file for the  dataset, Next create a New Table, and then follow the steps on-screen instructions to load the data. Name the new table as follows:\n",
    "\n",
    "**SPACEXDATASET**\n",
    "\n",
    "**Follow these steps while using old DB2 UI which is having Open Console Screen**\n",
    "\n",
    "**Note:While loading Spacex dataset, ensure that detect datatypes is disabled. Later click on the pencil icon(edit option).**\n",
    "\n",
    "1.  Change the Date Format by manually typing DD-MM-YYYY and timestamp format as DD-MM-YYYY HH\\:MM:SS\n",
    "\n",
    "2.  Change the PAYLOAD_MASS\\_\\_KG\\_  datatype  to INTEGER.\n",
    "\n",
    "<img src = \"https://cf-courses-data.s3.us.cloud-object-storage.appdomain.cloud/IBM-DS0321EN-SkillsNetwork/labs/module_2/images/spacexload2.png\">\n"
   ]
  },
  {
   "cell_type": "markdown",
   "metadata": {},
   "source": [
    "**Changes to be considered when having DB2 instance with the new UI having Go to UI screen**\n",
    "\n",
    "*   Refer to this insruction in this <a href=\"https://cf-courses-data.s3.us.cloud-object-storage.appdomain.cloud/IBMDeveloperSkillsNetwork-DB0201EN-SkillsNetwork/labs/Labs_Coursera_V5/labs/Lab%20-%20Sign%20up%20for%20IBM%20Cloud%20-%20Create%20Db2%20service%20instance%20-%20Get%20started%20with%20the%20Db2%20console/instructional-labs.md.html?utm_medium=Exinfluencer&utm_source=Exinfluencer&utm_content=000026UJ&utm_term=10006555&utm_id=NA-SkillsNetwork-Channel-SkillsNetworkCoursesIBMDS0321ENSkillsNetwork26802033-2021-01-01\">link</a> for viewing  the new  Go to UI screen.\n",
    "\n",
    "*   Later click on **Data link(below SQL)**  in the Go to UI screen  and click on **Load Data** tab.\n",
    "\n",
    "*   Later browse for the downloaded spacex file.\n",
    "\n",
    "<img src=\"https://cf-courses-data.s3.us.cloud-object-storage.appdomain.cloud/IBM-DS0321EN-SkillsNetwork/labs/module_2/images/browsefile.png\" width=\"800\"/>\n",
    "\n",
    "*   Once done select the schema andload the file.\n",
    "\n",
    " <img src=\"https://cf-courses-data.s3.us.cloud-object-storage.appdomain.cloud/IBM-DS0321EN-SkillsNetwork/labs/module_2/images/spacexload3.png\" width=\"800\"/>\n"
   ]
  },
  {
   "cell_type": "code",
   "execution_count": 1,
   "metadata": {},
   "outputs": [
    {
     "name": "stdout",
     "output_type": "stream",
     "text": [
      "Requirement already satisfied: sqlalchemy==1.3.9 in /Users/qingyili/opt/anaconda3/lib/python3.8/site-packages (1.3.9)\n",
      "Collecting ibm_db_sa\n",
      "  Downloading ibm_db_sa-0.3.8-py3-none-any.whl (30 kB)\n",
      "Collecting ibm-db>=2.0.0\n",
      "  Downloading ibm_db-3.1.1.tar.gz (1.1 MB)\n",
      "\u001b[2K     \u001b[90m━━━━━━━━━━━━━━━━━━━━━━━━━━━━━━━━━━━━━━━━\u001b[0m \u001b[32m1.1/1.1 MB\u001b[0m \u001b[31m5.4 MB/s\u001b[0m eta \u001b[36m0:00:00\u001b[0m00:01\u001b[0m00:01\u001b[0m\n",
      "\u001b[?25h  Installing build dependencies ... \u001b[?25ldone\n",
      "\u001b[?25h  Getting requirements to build wheel ... \u001b[?25ldone\n",
      "\u001b[?25h  Installing backend dependencies ... \u001b[?25ldone\n",
      "\u001b[?25h  Preparing metadata (pyproject.toml) ... \u001b[?25ldone\n",
      "\u001b[?25hRequirement already satisfied: sqlalchemy>=0.7.3 in /Users/qingyili/opt/anaconda3/lib/python3.8/site-packages (from ibm_db_sa) (1.3.9)\n",
      "Building wheels for collected packages: ibm-db\n",
      "  Building wheel for ibm-db (pyproject.toml) ... \u001b[?25lerror\n",
      "  \u001b[1;31merror\u001b[0m: \u001b[1msubprocess-exited-with-error\u001b[0m\n",
      "  \n",
      "  \u001b[31m×\u001b[0m \u001b[32mBuilding wheel for ibm-db \u001b[0m\u001b[1;32m(\u001b[0m\u001b[32mpyproject.toml\u001b[0m\u001b[1;32m)\u001b[0m did not run successfully.\n",
      "  \u001b[31m│\u001b[0m exit code: \u001b[1;36m1\u001b[0m\n",
      "  \u001b[31m╰─>\u001b[0m \u001b[31m[669 lines of output]\u001b[0m\n",
      "  \u001b[31m   \u001b[0m Detected 64-bit Python\n",
      "  \u001b[31m   \u001b[0m running bdist_wheel\n",
      "  \u001b[31m   \u001b[0m running build\n",
      "  \u001b[31m   \u001b[0m running build_py\n",
      "  \u001b[31m   \u001b[0m creating build\n",
      "  \u001b[31m   \u001b[0m creating build/lib.macosx-10.9-x86_64-cpython-38\n",
      "  \u001b[31m   \u001b[0m copying ibm_db_dbi.py -> build/lib.macosx-10.9-x86_64-cpython-38\n",
      "  \u001b[31m   \u001b[0m copying testfunctions.py -> build/lib.macosx-10.9-x86_64-cpython-38\n",
      "  \u001b[31m   \u001b[0m copying tests.py -> build/lib.macosx-10.9-x86_64-cpython-38\n",
      "  \u001b[31m   \u001b[0m creating build/lib.macosx-10.9-x86_64-cpython-38/ibm_db_tests\n",
      "  \u001b[31m   \u001b[0m copying ibm_db_tests/test_alltypes.py -> build/lib.macosx-10.9-x86_64-cpython-38/ibm_db_tests\n",
      "  \u001b[31m   \u001b[0m copying ibm_db_tests/test_111_FieldNumAddCol.py -> build/lib.macosx-10.9-x86_64-cpython-38/ibm_db_tests\n",
      "  \u001b[31m   \u001b[0m copying ibm_db_tests/test_122_FieldNameDiffCaseColNames.py -> build/lib.macosx-10.9-x86_64-cpython-38/ibm_db_tests\n",
      "  \u001b[31m   \u001b[0m copying ibm_db_tests/test_065_FilterTableName.py -> build/lib.macosx-10.9-x86_64-cpython-38/ibm_db_tests\n",
      "  \u001b[31m   \u001b[0m copying ibm_db_tests/test_045_FetchTupleBinaryData_01.py -> build/lib.macosx-10.9-x86_64-cpython-38/ibm_db_tests\n",
      "  \u001b[31m   \u001b[0m copying ibm_db_tests/test_158_FetchAssocNestedSelects_02.py -> build/lib.macosx-10.9-x86_64-cpython-38/ibm_db_tests\n",
      "  \u001b[31m   \u001b[0m copying ibm_db_tests/test_251_FreeResult_02.py -> build/lib.macosx-10.9-x86_64-cpython-38/ibm_db_tests\n",
      "  \u001b[31m   \u001b[0m copying ibm_db_tests/test_221_100PersistentConns.py -> build/lib.macosx-10.9-x86_64-cpython-38/ibm_db_tests\n",
      "  \u001b[31m   \u001b[0m copying ibm_db_tests/test_200_MultipleRsltsetsUniformColDefs.py -> build/lib.macosx-10.9-x86_64-cpython-38/ibm_db_tests\n",
      "  \u001b[31m   \u001b[0m copying ibm_db_tests/test_bool_callproc.py -> build/lib.macosx-10.9-x86_64-cpython-38/ibm_db_tests\n",
      "  \u001b[31m   \u001b[0m copying ibm_db_tests/test_042_FetchTupleMany_02.py -> build/lib.macosx-10.9-x86_64-cpython-38/ibm_db_tests\n",
      "  \u001b[31m   \u001b[0m copying ibm_db_tests/test_020_RollbackDelete.py -> build/lib.macosx-10.9-x86_64-cpython-38/ibm_db_tests\n",
      "  \u001b[31m   \u001b[0m copying ibm_db_tests/test_123_FieldNamePos_01.py -> build/lib.macosx-10.9-x86_64-cpython-38/ibm_db_tests\n",
      "  \u001b[31m   \u001b[0m copying ibm_db_tests/test_197_StatisticsIndexes.py -> build/lib.macosx-10.9-x86_64-cpython-38/ibm_db_tests\n",
      "  \u001b[31m   \u001b[0m copying ibm_db_tests/test_002_ConnDbUncatalogedConn.py -> build/lib.macosx-10.9-x86_64-cpython-38/ibm_db_tests\n",
      "  \u001b[31m   \u001b[0m copying ibm_db_tests/test_232_FieldTypePosName.py -> build/lib.macosx-10.9-x86_64-cpython-38/ibm_db_tests\n",
      "  \u001b[31m   \u001b[0m copying ibm_db_tests/test_InsertRetrieveDateTimeTypeColumn.py -> build/lib.macosx-10.9-x86_64-cpython-38/ibm_db_tests\n",
      "  \u001b[31m   \u001b[0m copying ibm_db_tests/test_015_InsertDeleteRowCount_01.py -> build/lib.macosx-10.9-x86_64-cpython-38/ibm_db_tests\n",
      "  \u001b[31m   \u001b[0m copying ibm_db_tests/test_041_FetchTupleMany_01.py -> build/lib.macosx-10.9-x86_64-cpython-38/ibm_db_tests\n",
      "  \u001b[31m   \u001b[0m copying ibm_db_tests/test_047_FetchTupleMany_06.py -> build/lib.macosx-10.9-x86_64-cpython-38/ibm_db_tests\n",
      "  \u001b[31m   \u001b[0m copying ibm_db_tests/test_140_BindParamSelectStmt.py -> build/lib.macosx-10.9-x86_64-cpython-38/ibm_db_tests\n",
      "  \u001b[31m   \u001b[0m copying ibm_db_tests/test_160_FetchBoth.py -> build/lib.macosx-10.9-x86_64-cpython-38/ibm_db_tests\n",
      "  \u001b[31m   \u001b[0m copying ibm_db_tests/test_050_AutocommitStatus.py -> build/lib.macosx-10.9-x86_64-cpython-38/ibm_db_tests\n",
      "  \u001b[31m   \u001b[0m copying ibm_db_tests/test_004_ConnWrongUserPwd.py -> build/lib.macosx-10.9-x86_64-cpython-38/ibm_db_tests\n",
      "  \u001b[31m   \u001b[0m copying ibm_db_tests/test_114_NumericTest_01.py -> build/lib.macosx-10.9-x86_64-cpython-38/ibm_db_tests\n",
      "  \u001b[31m   \u001b[0m copying ibm_db_tests/test_070_Close.py -> build/lib.macosx-10.9-x86_64-cpython-38/ibm_db_tests\n",
      "  \u001b[31m   \u001b[0m copying ibm_db_tests/test_024_ForeignKeys.py -> build/lib.macosx-10.9-x86_64-cpython-38/ibm_db_tests\n",
      "  \u001b[31m   \u001b[0m copying ibm_db_tests/test_031_ResultIndexPosition.py -> build/lib.macosx-10.9-x86_64-cpython-38/ibm_db_tests\n",
      "  \u001b[31m   \u001b[0m copying ibm_db_tests/test_147_PrepareWithWrongType.py -> build/lib.macosx-10.9-x86_64-cpython-38/ibm_db_tests\n",
      "  \u001b[31m   \u001b[0m copying ibm_db_tests/test_051_SetAutocommit_01.py -> build/lib.macosx-10.9-x86_64-cpython-38/ibm_db_tests\n",
      "  \u001b[31m   \u001b[0m copying ibm_db_tests/test_019_selectRowcountPrefetchPrepOpt.py -> build/lib.macosx-10.9-x86_64-cpython-38/ibm_db_tests\n",
      "  \u001b[31m   \u001b[0m copying ibm_db_tests/test_recreateDB.py -> build/lib.macosx-10.9-x86_64-cpython-38/ibm_db_tests\n",
      "  \u001b[31m   \u001b[0m copying ibm_db_tests/test_054_CursorType.py -> build/lib.macosx-10.9-x86_64-cpython-38/ibm_db_tests\n",
      "  \u001b[31m   \u001b[0m copying ibm_db_tests/test_161_FetchBothNestedSelects_01.py -> build/lib.macosx-10.9-x86_64-cpython-38/ibm_db_tests\n",
      "  \u001b[31m   \u001b[0m copying ibm_db_tests/test_310_ClientInfo.py -> build/lib.macosx-10.9-x86_64-cpython-38/ibm_db_tests\n",
      "  \u001b[31m   \u001b[0m copying ibm_db_tests/test_003_NumAffectedRows.py -> build/lib.macosx-10.9-x86_64-cpython-38/ibm_db_tests\n",
      "  \u001b[31m   \u001b[0m copying ibm_db_tests/test_err_executemany.py -> build/lib.macosx-10.9-x86_64-cpython-38/ibm_db_tests\n",
      "  \u001b[31m   \u001b[0m copying ibm_db_tests/test_265_NoAffectedRows.py -> build/lib.macosx-10.9-x86_64-cpython-38/ibm_db_tests\n",
      "  \u001b[31m   \u001b[0m copying ibm_db_tests/test_066_TableObjects.py -> build/lib.macosx-10.9-x86_64-cpython-38/ibm_db_tests\n",
      "  \u001b[31m   \u001b[0m copying ibm_db_tests/test_264_InsertRetrieveBIGINTTypeColumn.py -> build/lib.macosx-10.9-x86_64-cpython-38/ibm_db_tests\n",
      "  \u001b[31m   \u001b[0m copying ibm_db_tests/test_113_DateTest.py -> build/lib.macosx-10.9-x86_64-cpython-38/ibm_db_tests\n",
      "  \u001b[31m   \u001b[0m copying ibm_db_tests/test_240_FieldWidthPosName_01.py -> build/lib.macosx-10.9-x86_64-cpython-38/ibm_db_tests\n",
      "  \u001b[31m   \u001b[0m copying ibm_db_tests/test_044_FetchTupleMany_04.py -> build/lib.macosx-10.9-x86_64-cpython-38/ibm_db_tests\n",
      "  \u001b[31m   \u001b[0m copying ibm_db_tests/test_261_FetchObjectAccess.py -> build/lib.macosx-10.9-x86_64-cpython-38/ibm_db_tests\n",
      "  \u001b[31m   \u001b[0m copying ibm_db_tests/test_005_ConnBadUserBadPwd.py -> build/lib.macosx-10.9-x86_64-cpython-38/ibm_db_tests\n",
      "  \u001b[31m   \u001b[0m copying ibm_db_tests/test_159a_FetchAssocSeveralRows_02.py -> build/lib.macosx-10.9-x86_64-cpython-38/ibm_db_tests\n",
      "  \u001b[31m   \u001b[0m copying ibm_db_tests/test_211_FieldDisplaySize_02.py -> build/lib.macosx-10.9-x86_64-cpython-38/ibm_db_tests\n",
      "  \u001b[31m   \u001b[0m copying ibm_db_tests/test_180_StmtErrMsg.py -> build/lib.macosx-10.9-x86_64-cpython-38/ibm_db_tests\n",
      "  \u001b[31m   \u001b[0m copying ibm_db_tests/test_143_BindParamInsertStmtNoneParam.py -> build/lib.macosx-10.9-x86_64-cpython-38/ibm_db_tests\n",
      "  \u001b[31m   \u001b[0m copying ibm_db_tests/test_157a_FetchAssocWithoutScrollableCursorErr.py -> build/lib.macosx-10.9-x86_64-cpython-38/ibm_db_tests\n",
      "  \u001b[31m   \u001b[0m copying ibm_db_tests/test_212_FieldDisplaySize_03.py -> build/lib.macosx-10.9-x86_64-cpython-38/ibm_db_tests\n",
      "  \u001b[31m   \u001b[0m copying ibm_db_tests/test_warn.py -> build/lib.macosx-10.9-x86_64-cpython-38/ibm_db_tests\n",
      "  \u001b[31m   \u001b[0m copying ibm_db_tests/test_decimal.py -> build/lib.macosx-10.9-x86_64-cpython-38/ibm_db_tests\n",
      "  \u001b[31m   \u001b[0m copying ibm_db_tests/test_6528_ScopingProblemBindParam.py -> build/lib.macosx-10.9-x86_64-cpython-38/ibm_db_tests\n",
      "  \u001b[31m   \u001b[0m copying ibm_db_tests/test_062_Tables_03.py -> build/lib.macosx-10.9-x86_64-cpython-38/ibm_db_tests\n",
      "  \u001b[31m   \u001b[0m copying ibm_db_tests/test_cursortype.py -> build/lib.macosx-10.9-x86_64-cpython-38/ibm_db_tests\n",
      "  \u001b[31m   \u001b[0m copying ibm_db_tests/test_152_FetchAssocSelect_03.py -> build/lib.macosx-10.9-x86_64-cpython-38/ibm_db_tests\n",
      "  \u001b[31m   \u001b[0m copying ibm_db_tests/test_151_FetchAssocSelect_02.py -> build/lib.macosx-10.9-x86_64-cpython-38/ibm_db_tests\n",
      "  \u001b[31m   \u001b[0m copying ibm_db_tests/test_000_PrepareDb.py -> build/lib.macosx-10.9-x86_64-cpython-38/ibm_db_tests\n",
      "  \u001b[31m   \u001b[0m copying ibm_db_tests/test_201_MultipleRsltsetsDiffColDefs.py -> build/lib.macosx-10.9-x86_64-cpython-38/ibm_db_tests\n",
      "  \u001b[31m   \u001b[0m copying ibm_db_tests/test_6561_InsertNULLValues.py -> build/lib.macosx-10.9-x86_64-cpython-38/ibm_db_tests\n",
      "  \u001b[31m   \u001b[0m copying ibm_db_tests/test_016_InsertDeleteRowCount_02.py -> build/lib.macosx-10.9-x86_64-cpython-38/ibm_db_tests\n",
      "  \u001b[31m   \u001b[0m copying ibm_db_tests/test_032_ResultIndexName.py -> build/lib.macosx-10.9-x86_64-cpython-38/ibm_db_tests\n",
      "  \u001b[31m   \u001b[0m copying ibm_db_tests/test_034_FetchAssoc.py -> build/lib.macosx-10.9-x86_64-cpython-38/ibm_db_tests\n",
      "  \u001b[31m   \u001b[0m copying ibm_db_tests/test_241_FieldWidthPosName_02.py -> build/lib.macosx-10.9-x86_64-cpython-38/ibm_db_tests\n",
      "  \u001b[31m   \u001b[0m copying ibm_db_tests/__init__.py -> build/lib.macosx-10.9-x86_64-cpython-38/ibm_db_tests\n",
      "  \u001b[31m   \u001b[0m copying ibm_db_tests/test_013_KeysetDrivenCursorSelect02.py -> build/lib.macosx-10.9-x86_64-cpython-38/ibm_db_tests\n",
      "  \u001b[31m   \u001b[0m copying ibm_db_tests/test_300_ServerInfo.py -> build/lib.macosx-10.9-x86_64-cpython-38/ibm_db_tests\n",
      "  \u001b[31m   \u001b[0m copying ibm_db_tests/test_033_ResultOutSequenceColumn.py -> build/lib.macosx-10.9-x86_64-cpython-38/ibm_db_tests\n",
      "  \u001b[31m   \u001b[0m copying ibm_db_tests/test_141_BindParamSelectStmtMultipleParams_01.py -> build/lib.macosx-10.9-x86_64-cpython-38/ibm_db_tests\n",
      "  \u001b[31m   \u001b[0m copying ibm_db_tests/test_145_BindRetrieveNoneEmptyString.py -> build/lib.macosx-10.9-x86_64-cpython-38/ibm_db_tests\n",
      "  \u001b[31m   \u001b[0m copying ibm_db_tests/test_053_AttrThruConn.py -> build/lib.macosx-10.9-x86_64-cpython-38/ibm_db_tests\n",
      "  \u001b[31m   \u001b[0m copying ibm_db_tests/test_043_FetchTupleMany_03.py -> build/lib.macosx-10.9-x86_64-cpython-38/ibm_db_tests\n",
      "  \u001b[31m   \u001b[0m copying ibm_db_tests/test_124_FieldNamePos_02.py -> build/lib.macosx-10.9-x86_64-cpython-38/ibm_db_tests\n",
      "  \u001b[31m   \u001b[0m copying ibm_db_tests/test_unicodeTable.py -> build/lib.macosx-10.9-x86_64-cpython-38/ibm_db_tests\n",
      "  \u001b[31m   \u001b[0m copying ibm_db_tests/test_092_ConnmsgWrongPwd.py -> build/lib.macosx-10.9-x86_64-cpython-38/ibm_db_tests\n",
      "  \u001b[31m   \u001b[0m copying ibm_db_tests/test_120_FieldName.py -> build/lib.macosx-10.9-x86_64-cpython-38/ibm_db_tests\n",
      "  \u001b[31m   \u001b[0m copying ibm_db_tests/test_6755_ExtraNULLChar_ResultCLOBCol.py -> build/lib.macosx-10.9-x86_64-cpython-38/ibm_db_tests\n",
      "  \u001b[31m   \u001b[0m copying ibm_db_tests/test_039_FetchRowIndexPosNested_02.py -> build/lib.macosx-10.9-x86_64-cpython-38/ibm_db_tests\n",
      "  \u001b[31m   \u001b[0m copying ibm_db_tests/test_trusted_context_connect.py -> build/lib.macosx-10.9-x86_64-cpython-38/ibm_db_tests\n",
      "  \u001b[31m   \u001b[0m copying ibm_db_tests/test_035_FetchRow_01.py -> build/lib.macosx-10.9-x86_64-cpython-38/ibm_db_tests\n",
      "  \u001b[31m   \u001b[0m copying ibm_db_tests/test_060_Tables_01.py -> build/lib.macosx-10.9-x86_64-cpython-38/ibm_db_tests\n",
      "  \u001b[31m   \u001b[0m copying ibm_db_tests/test_createdbNX.py -> build/lib.macosx-10.9-x86_64-cpython-38/ibm_db_tests\n",
      "  \u001b[31m   \u001b[0m copying ibm_db_tests/test_SPInOutBlob.py -> build/lib.macosx-10.9-x86_64-cpython-38/ibm_db_tests\n",
      "  \u001b[31m   \u001b[0m copying ibm_db_tests/test_038_FetchRowIndexPosNested_01.py -> build/lib.macosx-10.9-x86_64-cpython-38/ibm_db_tests\n",
      "  \u001b[31m   \u001b[0m copying ibm_db_tests/test_155_FetchAssocSelect_05.py -> build/lib.macosx-10.9-x86_64-cpython-38/ibm_db_tests\n",
      "  \u001b[31m   \u001b[0m copying ibm_db_tests/test_014_KeysetDrivenCursorNegativeRow.py -> build/lib.macosx-10.9-x86_64-cpython-38/ibm_db_tests\n",
      "  \u001b[31m   \u001b[0m copying ibm_db_tests/test_6792_FieldTypeRetStrDatetimeTimestamp.py -> build/lib.macosx-10.9-x86_64-cpython-38/ibm_db_tests\n",
      "  \u001b[31m   \u001b[0m copying ibm_db_tests/test_116_ConnActive.py -> build/lib.macosx-10.9-x86_64-cpython-38/ibm_db_tests\n",
      "  \u001b[31m   \u001b[0m copying ibm_db_tests/test_048_FetchTupleBinaryData_02.py -> build/lib.macosx-10.9-x86_64-cpython-38/ibm_db_tests\n",
      "  \u001b[31m   \u001b[0m copying ibm_db_tests/test_196_InsertRetrieveXMLData_02.py -> build/lib.macosx-10.9-x86_64-cpython-38/ibm_db_tests\n",
      "  \u001b[31m   \u001b[0m copying ibm_db_tests/test_007_pConnPassingOpts.py -> build/lib.macosx-10.9-x86_64-cpython-38/ibm_db_tests\n",
      "  \u001b[31m   \u001b[0m copying ibm_db_tests/test_103_NumFieldsSelect_02.py -> build/lib.macosx-10.9-x86_64-cpython-38/ibm_db_tests\n",
      "  \u001b[31m   \u001b[0m copying ibm_db_tests/test_231_FieldTypeName.py -> build/lib.macosx-10.9-x86_64-cpython-38/ibm_db_tests\n",
      "  \u001b[31m   \u001b[0m copying ibm_db_tests/test_071_CloseSuccess.py -> build/lib.macosx-10.9-x86_64-cpython-38/ibm_db_tests\n",
      "  \u001b[31m   \u001b[0m copying ibm_db_tests/test_checkBooleanType.py -> build/lib.macosx-10.9-x86_64-cpython-38/ibm_db_tests\n",
      "  \u001b[31m   \u001b[0m copying ibm_db_tests/test_090_ConnmsgWrongDbAlias.py -> build/lib.macosx-10.9-x86_64-cpython-38/ibm_db_tests\n",
      "  \u001b[31m   \u001b[0m copying ibm_db_tests/test_001_ConnDb.py -> build/lib.macosx-10.9-x86_64-cpython-38/ibm_db_tests\n",
      "  \u001b[31m   \u001b[0m copying ibm_db_tests/test_063_Tables_04.py -> build/lib.macosx-10.9-x86_64-cpython-38/ibm_db_tests\n",
      "  \u001b[31m   \u001b[0m copying ibm_db_tests/test_017_selectRowcountPrefetchSTMTOpt.py -> build/lib.macosx-10.9-x86_64-cpython-38/ibm_db_tests\n",
      "  \u001b[31m   \u001b[0m copying ibm_db_tests/test_159_FetchAssocSeveralRows_01.py -> build/lib.macosx-10.9-x86_64-cpython-38/ibm_db_tests\n",
      "  \u001b[31m   \u001b[0m copying ibm_db_tests/test_195_InsertRetrieveXMLData_01.py -> build/lib.macosx-10.9-x86_64-cpython-38/ibm_db_tests\n",
      "  \u001b[31m   \u001b[0m copying ibm_db_tests/test_008_ColumnInfo.py -> build/lib.macosx-10.9-x86_64-cpython-38/ibm_db_tests\n",
      "  \u001b[31m   \u001b[0m copying ibm_db_tests/test_021_CommitDelete.py -> build/lib.macosx-10.9-x86_64-cpython-38/ibm_db_tests\n",
      "  \u001b[31m   \u001b[0m copying ibm_db_tests/test_230_FieldTypePos.py -> build/lib.macosx-10.9-x86_64-cpython-38/ibm_db_tests\n",
      "  \u001b[31m   \u001b[0m copying ibm_db_tests/test_trusted_context_pconnect.py -> build/lib.macosx-10.9-x86_64-cpython-38/ibm_db_tests\n",
      "  \u001b[31m   \u001b[0m copying ibm_db_tests/test_currentschema.py -> build/lib.macosx-10.9-x86_64-cpython-38/ibm_db_tests\n",
      "  \u001b[31m   \u001b[0m copying ibm_db_tests/test_064_Tables_05.py -> build/lib.macosx-10.9-x86_64-cpython-38/ibm_db_tests\n",
      "  \u001b[31m   \u001b[0m copying ibm_db_tests/test_046_FetchTupleMany_05.py -> build/lib.macosx-10.9-x86_64-cpython-38/ibm_db_tests\n",
      "  \u001b[31m   \u001b[0m copying ibm_db_tests/test_booleanInsertSelect.py -> build/lib.macosx-10.9-x86_64-cpython-38/ibm_db_tests\n",
      "  \u001b[31m   \u001b[0m copying ibm_db_tests/test_142_BindParamSelectStmtMultipleParams_02.py -> build/lib.macosx-10.9-x86_64-cpython-38/ibm_db_tests\n",
      "  \u001b[31m   \u001b[0m copying ibm_db_tests/test_125_FieldNamePos_03.py -> build/lib.macosx-10.9-x86_64-cpython-38/ibm_db_tests\n",
      "  \u001b[31m   \u001b[0m copying ibm_db_tests/test_250_FreeResult_01.py -> build/lib.macosx-10.9-x86_64-cpython-38/ibm_db_tests\n",
      "  \u001b[31m   \u001b[0m copying ibm_db_tests/test_144_BindParamInsertStmtPARAM_FILE.py -> build/lib.macosx-10.9-x86_64-cpython-38/ibm_db_tests\n",
      "  \u001b[31m   \u001b[0m copying ibm_db_tests/test_156_FetchAssocNestedSelects_01.py -> build/lib.macosx-10.9-x86_64-cpython-38/ibm_db_tests\n",
      "  \u001b[31m   \u001b[0m copying ibm_db_tests/test_049_InsertNoneParam.py -> build/lib.macosx-10.9-x86_64-cpython-38/ibm_db_tests\n",
      "  \u001b[31m   \u001b[0m copying ibm_db_tests/test_006_ConnPassingOpts.py -> build/lib.macosx-10.9-x86_64-cpython-38/ibm_db_tests\n",
      "  \u001b[31m   \u001b[0m copying ibm_db_tests/test_061_Tables_02.py -> build/lib.macosx-10.9-x86_64-cpython-38/ibm_db_tests\n",
      "  \u001b[31m   \u001b[0m copying ibm_db_tests/test_100_SelectDeleteInsertFieldCount.py -> build/lib.macosx-10.9-x86_64-cpython-38/ibm_db_tests\n",
      "  \u001b[31m   \u001b[0m copying ibm_db_tests/test_110_FieldNum.py -> build/lib.macosx-10.9-x86_64-cpython-38/ibm_db_tests\n",
      "  \u001b[31m   \u001b[0m copying ibm_db_tests/test_52949_TestSPIntVarcharXml.py -> build/lib.macosx-10.9-x86_64-cpython-38/ibm_db_tests\n",
      "  \u001b[31m   \u001b[0m copying ibm_db_tests/test_091_ConnmsgWrongUser.py -> build/lib.macosx-10.9-x86_64-cpython-38/ibm_db_tests\n",
      "  \u001b[31m   \u001b[0m copying ibm_db_tests/test_133_ExecuteLongInputParams.py -> build/lib.macosx-10.9-x86_64-cpython-38/ibm_db_tests\n",
      "  \u001b[31m   \u001b[0m copying ibm_db_tests/test_082_ConnWrongPwd.py -> build/lib.macosx-10.9-x86_64-cpython-38/ibm_db_tests\n",
      "  \u001b[31m   \u001b[0m copying ibm_db_tests/test_025_PrimaryKeys.py -> build/lib.macosx-10.9-x86_64-cpython-38/ibm_db_tests\n",
      "  \u001b[31m   \u001b[0m copying ibm_db_tests/test_101_InsertDeleteFieldCount.py -> build/lib.macosx-10.9-x86_64-cpython-38/ibm_db_tests\n",
      "  \u001b[31m   \u001b[0m copying ibm_db_tests/test_03a_ResultNonExistCol.py -> build/lib.macosx-10.9-x86_64-cpython-38/ibm_db_tests\n",
      "  \u001b[31m   \u001b[0m copying ibm_db_tests/test_alltypesarray.py -> build/lib.macosx-10.9-x86_64-cpython-38/ibm_db_tests\n",
      "  \u001b[31m   \u001b[0m copying ibm_db_tests/test_080_ConnWrongDbAlias.py -> build/lib.macosx-10.9-x86_64-cpython-38/ibm_db_tests\n",
      "  \u001b[31m   \u001b[0m copying ibm_db_tests/test_148_CallSPDiffBindPattern_01.py -> build/lib.macosx-10.9-x86_64-cpython-38/ibm_db_tests\n",
      "  \u001b[31m   \u001b[0m copying ibm_db_tests/test_190_ColumnsTable_01.py -> build/lib.macosx-10.9-x86_64-cpython-38/ibm_db_tests\n",
      "  \u001b[31m   \u001b[0m copying ibm_db_tests/test_decfloat.py -> build/lib.macosx-10.9-x86_64-cpython-38/ibm_db_tests\n",
      "  \u001b[31m   \u001b[0m copying ibm_db_tests/test_213_FieldDisplaySize_04.py -> build/lib.macosx-10.9-x86_64-cpython-38/ibm_db_tests\n",
      "  \u001b[31m   \u001b[0m copying ibm_db_tests/test_150_FetchAssocSelect_01.py -> build/lib.macosx-10.9-x86_64-cpython-38/ibm_db_tests\n",
      "  \u001b[31m   \u001b[0m copying ibm_db_tests/test_018_selectRowcountPrefetchSetOpt.py -> build/lib.macosx-10.9-x86_64-cpython-38/ibm_db_tests\n",
      "  \u001b[31m   \u001b[0m copying ibm_db_tests/test_157b_FetchAssocScrollableCursor_02.py -> build/lib.macosx-10.9-x86_64-cpython-38/ibm_db_tests\n",
      "  \u001b[31m   \u001b[0m copying ibm_db_tests/test_011_DeleteRowCount.py -> build/lib.macosx-10.9-x86_64-cpython-38/ibm_db_tests\n",
      "  \u001b[31m   \u001b[0m copying ibm_db_tests/test_154_AllFetches.py -> build/lib.macosx-10.9-x86_64-cpython-38/ibm_db_tests\n",
      "  \u001b[31m   \u001b[0m copying ibm_db_tests/test_030_Result.py -> build/lib.macosx-10.9-x86_64-cpython-38/ibm_db_tests\n",
      "  \u001b[31m   \u001b[0m copying ibm_db_tests/test_132_ExecuteStatementArrayMultipleParams.py -> build/lib.macosx-10.9-x86_64-cpython-38/ibm_db_tests\n",
      "  \u001b[31m   \u001b[0m copying ibm_db_tests/test_146_CallSPINAndOUTParams.py -> build/lib.macosx-10.9-x86_64-cpython-38/ibm_db_tests\n",
      "  \u001b[31m   \u001b[0m copying ibm_db_tests/test_191_ColumnsTable_02.py -> build/lib.macosx-10.9-x86_64-cpython-38/ibm_db_tests\n",
      "  \u001b[31m   \u001b[0m copying ibm_db_tests/test_execute_many.py -> build/lib.macosx-10.9-x86_64-cpython-38/ibm_db_tests\n",
      "  \u001b[31m   \u001b[0m copying ibm_db_tests/test_010_UpdateRowCount.py -> build/lib.macosx-10.9-x86_64-cpython-38/ibm_db_tests\n",
      "  \u001b[31m   \u001b[0m copying ibm_db_tests/test_012_KeysetDrivenCursorSelect01.py -> build/lib.macosx-10.9-x86_64-cpython-38/ibm_db_tests\n",
      "  \u001b[31m   \u001b[0m copying ibm_db_tests/test_146a_CallSPINAndOUT_Blob_Param.py -> build/lib.macosx-10.9-x86_64-cpython-38/ibm_db_tests\n",
      "  \u001b[31m   \u001b[0m copying ibm_db_tests/test_115_NumericTest_02.py -> build/lib.macosx-10.9-x86_64-cpython-38/ibm_db_tests\n",
      "  \u001b[31m   \u001b[0m copying ibm_db_tests/test_220_PersistentConn.py -> build/lib.macosx-10.9-x86_64-cpython-38/ibm_db_tests\n",
      "  \u001b[31m   \u001b[0m copying ibm_db_tests/test_052_SetAutocommit_02.py -> build/lib.macosx-10.9-x86_64-cpython-38/ibm_db_tests\n",
      "  \u001b[31m   \u001b[0m copying ibm_db_tests/test_036_FetchRow_02.py -> build/lib.macosx-10.9-x86_64-cpython-38/ibm_db_tests\n",
      "  \u001b[31m   \u001b[0m copying ibm_db_tests/test_210_FieldDisplaySize_01.py -> build/lib.macosx-10.9-x86_64-cpython-38/ibm_db_tests\n",
      "  \u001b[31m   \u001b[0m copying ibm_db_tests/test_153_FetchAssocSelect_04.py -> build/lib.macosx-10.9-x86_64-cpython-38/ibm_db_tests\n",
      "  \u001b[31m   \u001b[0m copying ibm_db_tests/test_037_FetchRowIndexPos.py -> build/lib.macosx-10.9-x86_64-cpython-38/ibm_db_tests\n",
      "  \u001b[31m   \u001b[0m copying ibm_db_tests/test_131_PrepareExecuteSelectStatementParams.py -> build/lib.macosx-10.9-x86_64-cpython-38/ibm_db_tests\n",
      "  \u001b[31m   \u001b[0m copying ibm_db_tests/test_022_RollbackInsert.py -> build/lib.macosx-10.9-x86_64-cpython-38/ibm_db_tests\n",
      "  \u001b[31m   \u001b[0m copying ibm_db_tests/test_162_FetchBothNestedSelects_02.py -> build/lib.macosx-10.9-x86_64-cpython-38/ibm_db_tests\n",
      "  \u001b[31m   \u001b[0m copying ibm_db_tests/test_260_FetchTupleMany_07.py -> build/lib.macosx-10.9-x86_64-cpython-38/ibm_db_tests\n",
      "  \u001b[31m   \u001b[0m copying ibm_db_tests/test_SPInOutZero.py -> build/lib.macosx-10.9-x86_64-cpython-38/ibm_db_tests\n",
      "  \u001b[31m   \u001b[0m copying ibm_db_tests/test_081_ConnWrongUser.py -> build/lib.macosx-10.9-x86_64-cpython-38/ibm_db_tests\n",
      "  \u001b[31m   \u001b[0m copying ibm_db_tests/test_040_FetchTuple.py -> build/lib.macosx-10.9-x86_64-cpython-38/ibm_db_tests\n",
      "  \u001b[31m   \u001b[0m copying ibm_db_tests/test_createDropDB.py -> build/lib.macosx-10.9-x86_64-cpython-38/ibm_db_tests\n",
      "  \u001b[31m   \u001b[0m copying ibm_db_tests/test_311_InsertSelectDeleteNumLiterals.py -> build/lib.macosx-10.9-x86_64-cpython-38/ibm_db_tests\n",
      "  \u001b[31m   \u001b[0m copying ibm_db_tests/test_121_FieldNameAddCol.py -> build/lib.macosx-10.9-x86_64-cpython-38/ibm_db_tests\n",
      "  \u001b[31m   \u001b[0m copying ibm_db_tests/test_023_ColumnPrivileges.py -> build/lib.macosx-10.9-x86_64-cpython-38/ibm_db_tests\n",
      "  \u001b[31m   \u001b[0m copying ibm_db_tests/test_130_PrepExecuteSelectStmt.py -> build/lib.macosx-10.9-x86_64-cpython-38/ibm_db_tests\n",
      "  \u001b[31m   \u001b[0m copying ibm_db_tests/test_157_FetchAssocScrollableCursor_01.py -> build/lib.macosx-10.9-x86_64-cpython-38/ibm_db_tests\n",
      "  \u001b[31m   \u001b[0m copying ibm_db_tests/test_112_FieldNumDiffCaseColNames.py -> build/lib.macosx-10.9-x86_64-cpython-38/ibm_db_tests\n",
      "  \u001b[31m   \u001b[0m copying ibm_db_tests/test_setgetOption.py -> build/lib.macosx-10.9-x86_64-cpython-38/ibm_db_tests\n",
      "  \u001b[31m   \u001b[0m copying ibm_db_tests/test_102_NumFieldsSelect_01.py -> build/lib.macosx-10.9-x86_64-cpython-38/ibm_db_tests\n",
      "  \u001b[31m   \u001b[0m creating build/lib.macosx-10.9-x86_64-cpython-38/certs\n",
      "  \u001b[31m   \u001b[0m copying certs/__init__.py -> build/lib.macosx-10.9-x86_64-cpython-38/certs\n",
      "  \u001b[31m   \u001b[0m creating build/lib.macosx-10.9-x86_64-cpython-38/clidriver\n",
      "  \u001b[31m   \u001b[0m copying clidriver/__init__.py -> build/lib.macosx-10.9-x86_64-cpython-38/clidriver\n",
      "  \u001b[31m   \u001b[0m running egg_info\n",
      "  \u001b[31m   \u001b[0m writing ibm_db.egg-info/PKG-INFO\n",
      "  \u001b[31m   \u001b[0m writing dependency_links to ibm_db.egg-info/dependency_links.txt\n",
      "  \u001b[31m   \u001b[0m writing top-level names to ibm_db.egg-info/top_level.txt\n",
      "  \u001b[31m   \u001b[0m reading manifest file 'ibm_db.egg-info/SOURCES.txt'\n",
      "  \u001b[31m   \u001b[0m reading manifest template 'MANIFEST.in'\n",
      "  \u001b[31m   \u001b[0m warning: no files found matching '*' under directory 'ibm_db_dlls'\n",
      "  \u001b[31m   \u001b[0m warning: no previously-included files found matching 'config.py'\n",
      "  \u001b[31m   \u001b[0m adding license file 'LICENSE'\n",
      "  \u001b[31m   \u001b[0m writing manifest file 'ibm_db.egg-info/SOURCES.txt'\n",
      "  \u001b[31m   \u001b[0m copying ibm_db_tests/pic1.jpg -> build/lib.macosx-10.9-x86_64-cpython-38/ibm_db_tests\n",
      "  \u001b[31m   \u001b[0m copying ibm_db_tests/pic1_out.jpg -> build/lib.macosx-10.9-x86_64-cpython-38/ibm_db_tests\n",
      "  \u001b[31m   \u001b[0m copying ibm_db_tests/spook.png -> build/lib.macosx-10.9-x86_64-cpython-38/ibm_db_tests\n",
      "  \u001b[31m   \u001b[0m copying ibm_db_tests/spook_out.png -> build/lib.macosx-10.9-x86_64-cpython-38/ibm_db_tests\n",
      "  \u001b[31m   \u001b[0m copying certs/ibm_certs.pem -> build/lib.macosx-10.9-x86_64-cpython-38/certs\n",
      "  \u001b[31m   \u001b[0m creating build/lib.macosx-10.9-x86_64-cpython-38/clidriver/bin\n",
      "  \u001b[31m   \u001b[0m copying clidriver/bin/db2cli -> build/lib.macosx-10.9-x86_64-cpython-38/clidriver/bin\n",
      "  \u001b[31m   \u001b[0m copying clidriver/bin/db2diag -> build/lib.macosx-10.9-x86_64-cpython-38/clidriver/bin\n",
      "  \u001b[31m   \u001b[0m copying clidriver/bin/db2drdat -> build/lib.macosx-10.9-x86_64-cpython-38/clidriver/bin\n",
      "  \u001b[31m   \u001b[0m copying clidriver/bin/db2dsdcfgfill -> build/lib.macosx-10.9-x86_64-cpython-38/clidriver/bin\n",
      "  \u001b[31m   \u001b[0m copying clidriver/bin/db2level -> build/lib.macosx-10.9-x86_64-cpython-38/clidriver/bin\n",
      "  \u001b[31m   \u001b[0m copying clidriver/bin/db2support -> build/lib.macosx-10.9-x86_64-cpython-38/clidriver/bin\n",
      "  \u001b[31m   \u001b[0m copying clidriver/bin/db2trc -> build/lib.macosx-10.9-x86_64-cpython-38/clidriver/bin\n",
      "  \u001b[31m   \u001b[0m creating build/lib.macosx-10.9-x86_64-cpython-38/clidriver/bnd\n",
      "  \u001b[31m   \u001b[0m copying clidriver/bnd/db2ajgrt.bnd -> build/lib.macosx-10.9-x86_64-cpython-38/clidriver/bnd\n",
      "  \u001b[31m   \u001b[0m copying clidriver/bnd/db2cli.bnd -> build/lib.macosx-10.9-x86_64-cpython-38/clidriver/bnd\n",
      "  \u001b[31m   \u001b[0m copying clidriver/bnd/db2cli.lst -> build/lib.macosx-10.9-x86_64-cpython-38/clidriver/bnd\n",
      "  \u001b[31m   \u001b[0m copying clidriver/bnd/db2clipk.bnd -> build/lib.macosx-10.9-x86_64-cpython-38/clidriver/bnd\n",
      "  \u001b[31m   \u001b[0m copying clidriver/bnd/db2clist.bnd -> build/lib.macosx-10.9-x86_64-cpython-38/clidriver/bnd\n",
      "  \u001b[31m   \u001b[0m copying clidriver/bnd/db2spcdb.bnd -> build/lib.macosx-10.9-x86_64-cpython-38/clidriver/bnd\n",
      "  \u001b[31m   \u001b[0m creating build/lib.macosx-10.9-x86_64-cpython-38/clidriver/cfg\n",
      "  \u001b[31m   \u001b[0m copying clidriver/cfg/DigiCertGlobalRootCA.arm -> build/lib.macosx-10.9-x86_64-cpython-38/clidriver/cfg\n",
      "  \u001b[31m   \u001b[0m copying clidriver/cfg/db2cli.ini.sample -> build/lib.macosx-10.9-x86_64-cpython-38/clidriver/cfg\n",
      "  \u001b[31m   \u001b[0m copying clidriver/cfg/db2dsdriver.cfg.sample -> build/lib.macosx-10.9-x86_64-cpython-38/clidriver/cfg\n",
      "  \u001b[31m   \u001b[0m copying clidriver/cfg/db2dsdriver.xsd -> build/lib.macosx-10.9-x86_64-cpython-38/clidriver/cfg\n",
      "  \u001b[31m   \u001b[0m creating build/lib.macosx-10.9-x86_64-cpython-38/clidriver/cfgcache\n",
      "  \u001b[31m   \u001b[0m copying clidriver/cfgcache/conlic.bin -> build/lib.macosx-10.9-x86_64-cpython-38/clidriver/cfgcache\n",
      "  \u001b[31m   \u001b[0m creating build/lib.macosx-10.9-x86_64-cpython-38/clidriver/conv\n",
      "  \u001b[31m   \u001b[0m creating build/lib.macosx-10.9-x86_64-cpython-38/clidriver/conv/alt\n",
      "  \u001b[31m   \u001b[0m copying clidriver/conv/alt/04370923.cnv -> build/lib.macosx-10.9-x86_64-cpython-38/clidriver/conv/alt\n",
      "  \u001b[31m   \u001b[0m copying clidriver/conv/alt/08500923.cnv -> build/lib.macosx-10.9-x86_64-cpython-38/clidriver/conv/alt\n",
      "  \u001b[31m   \u001b[0m copying clidriver/conv/alt/08501252.cnv -> build/lib.macosx-10.9-x86_64-cpython-38/clidriver/conv/alt\n",
      "  \u001b[31m   \u001b[0m copying clidriver/conv/alt/08600923.cnv -> build/lib.macosx-10.9-x86_64-cpython-38/clidriver/conv/alt\n",
      "  \u001b[31m   \u001b[0m copying clidriver/conv/alt/08630923.cnv -> build/lib.macosx-10.9-x86_64-cpython-38/clidriver/conv/alt\n",
      "  \u001b[31m   \u001b[0m copying clidriver/conv/alt/09230437.cnv -> build/lib.macosx-10.9-x86_64-cpython-38/clidriver/conv/alt\n",
      "  \u001b[31m   \u001b[0m copying clidriver/conv/alt/09230850.cnv -> build/lib.macosx-10.9-x86_64-cpython-38/clidriver/conv/alt\n",
      "  \u001b[31m   \u001b[0m copying clidriver/conv/alt/09230860.cnv -> build/lib.macosx-10.9-x86_64-cpython-38/clidriver/conv/alt\n",
      "  \u001b[31m   \u001b[0m copying clidriver/conv/alt/09231043.cnv -> build/lib.macosx-10.9-x86_64-cpython-38/clidriver/conv/alt\n",
      "  \u001b[31m   \u001b[0m copying clidriver/conv/alt/09231051.cnv -> build/lib.macosx-10.9-x86_64-cpython-38/clidriver/conv/alt\n",
      "  \u001b[31m   \u001b[0m copying clidriver/conv/alt/09231114.cnv -> build/lib.macosx-10.9-x86_64-cpython-38/clidriver/conv/alt\n",
      "  \u001b[31m   \u001b[0m copying clidriver/conv/alt/09231208.cnv -> build/lib.macosx-10.9-x86_64-cpython-38/clidriver/conv/alt\n",
      "  \u001b[31m   \u001b[0m copying clidriver/conv/alt/09231252.cnv -> build/lib.macosx-10.9-x86_64-cpython-38/clidriver/conv/alt\n",
      "  \u001b[31m   \u001b[0m copying clidriver/conv/alt/09231275.cnv -> build/lib.macosx-10.9-x86_64-cpython-38/clidriver/conv/alt\n",
      "  \u001b[31m   \u001b[0m copying clidriver/conv/alt/09241252.cnv -> build/lib.macosx-10.9-x86_64-cpython-38/clidriver/conv/alt\n",
      "  \u001b[31m   \u001b[0m copying clidriver/conv/alt/09370950.cnv -> build/lib.macosx-10.9-x86_64-cpython-38/clidriver/conv/alt\n",
      "  \u001b[31m   \u001b[0m copying clidriver/conv/alt/10430923.cnv -> build/lib.macosx-10.9-x86_64-cpython-38/clidriver/conv/alt\n",
      "  \u001b[31m   \u001b[0m copying clidriver/conv/alt/10510923.cnv -> build/lib.macosx-10.9-x86_64-cpython-38/clidriver/conv/alt\n",
      "  \u001b[31m   \u001b[0m copying clidriver/conv/alt/11140923.cnv -> build/lib.macosx-10.9-x86_64-cpython-38/clidriver/conv/alt\n",
      "  \u001b[31m   \u001b[0m copying clidriver/conv/alt/12080923.cnv -> build/lib.macosx-10.9-x86_64-cpython-38/clidriver/conv/alt\n",
      "  \u001b[31m   \u001b[0m copying clidriver/conv/alt/12520850.cnv -> build/lib.macosx-10.9-x86_64-cpython-38/clidriver/conv/alt\n",
      "  \u001b[31m   \u001b[0m copying clidriver/conv/alt/12520923.cnv -> build/lib.macosx-10.9-x86_64-cpython-38/clidriver/conv/alt\n",
      "  \u001b[31m   \u001b[0m copying clidriver/conv/alt/12750923.cnv -> build/lib.macosx-10.9-x86_64-cpython-38/clidriver/conv/alt\n",
      "  \u001b[31m   \u001b[0m copying clidriver/conv/alt/1388ucs2.cnv -> build/lib.macosx-10.9-x86_64-cpython-38/clidriver/conv/alt\n",
      "  \u001b[31m   \u001b[0m copying clidriver/conv/alt/IBM00850.ucs -> build/lib.macosx-10.9-x86_64-cpython-38/clidriver/conv/alt\n",
      "  \u001b[31m   \u001b[0m copying clidriver/conv/alt/IBM00923.ucs -> build/lib.macosx-10.9-x86_64-cpython-38/clidriver/conv/alt\n",
      "  \u001b[31m   \u001b[0m copying clidriver/conv/alt/IBM01252.ucs -> build/lib.macosx-10.9-x86_64-cpython-38/clidriver/conv/alt\n",
      "  \u001b[31m   \u001b[0m creating build/lib.macosx-10.9-x86_64-cpython-38/clidriver/conv/ms\n",
      "  \u001b[31m   \u001b[0m copying clidriver/conv/ms/0930ucs2.cnv -> build/lib.macosx-10.9-x86_64-cpython-38/clidriver/conv/ms\n",
      "  \u001b[31m   \u001b[0m copying clidriver/conv/ms/0939ucs2.cnv -> build/lib.macosx-10.9-x86_64-cpython-38/clidriver/conv/ms\n",
      "  \u001b[31m   \u001b[0m copying clidriver/conv/ms/0943ucs2.cnv -> build/lib.macosx-10.9-x86_64-cpython-38/clidriver/conv/ms\n",
      "  \u001b[31m   \u001b[0m copying clidriver/conv/ms/0954ucs2.cnv -> build/lib.macosx-10.9-x86_64-cpython-38/clidriver/conv/ms\n",
      "  \u001b[31m   \u001b[0m copying clidriver/conv/ms/1390ucs2.cnv -> build/lib.macosx-10.9-x86_64-cpython-38/clidriver/conv/ms\n",
      "  \u001b[31m   \u001b[0m copying clidriver/conv/ms/1399ucs2.cnv -> build/lib.macosx-10.9-x86_64-cpython-38/clidriver/conv/ms\n",
      "  \u001b[31m   \u001b[0m copying clidriver/conv/ms/5039ucs2.cnv -> build/lib.macosx-10.9-x86_64-cpython-38/clidriver/conv/ms\n",
      "  \u001b[31m   \u001b[0m copying clidriver/conv/ms/ucs20943.cnv -> build/lib.macosx-10.9-x86_64-cpython-38/clidriver/conv/ms\n",
      "  \u001b[31m   \u001b[0m creating build/lib.macosx-10.9-x86_64-cpython-38/clidriver/include\n",
      "  \u001b[31m   \u001b[0m copying clidriver/include/sql.h -> build/lib.macosx-10.9-x86_64-cpython-38/clidriver/include\n",
      "  \u001b[31m   \u001b[0m copying clidriver/include/sqlca.h -> build/lib.macosx-10.9-x86_64-cpython-38/clidriver/include\n",
      "  \u001b[31m   \u001b[0m copying clidriver/include/sqlcli.h -> build/lib.macosx-10.9-x86_64-cpython-38/clidriver/include\n",
      "  \u001b[31m   \u001b[0m copying clidriver/include/sqlcli1.h -> build/lib.macosx-10.9-x86_64-cpython-38/clidriver/include\n",
      "  \u001b[31m   \u001b[0m copying clidriver/include/sqlda.h -> build/lib.macosx-10.9-x86_64-cpython-38/clidriver/include\n",
      "  \u001b[31m   \u001b[0m copying clidriver/include/sqlenv.h -> build/lib.macosx-10.9-x86_64-cpython-38/clidriver/include\n",
      "  \u001b[31m   \u001b[0m copying clidriver/include/sqlext.h -> build/lib.macosx-10.9-x86_64-cpython-38/clidriver/include\n",
      "  \u001b[31m   \u001b[0m copying clidriver/include/sqlstate.h -> build/lib.macosx-10.9-x86_64-cpython-38/clidriver/include\n",
      "  \u001b[31m   \u001b[0m copying clidriver/include/sqlsystm.h -> build/lib.macosx-10.9-x86_64-cpython-38/clidriver/include\n",
      "  \u001b[31m   \u001b[0m copying clidriver/include/sqltypes.h -> build/lib.macosx-10.9-x86_64-cpython-38/clidriver/include\n",
      "  \u001b[31m   \u001b[0m copying clidriver/include/sqlucode.h -> build/lib.macosx-10.9-x86_64-cpython-38/clidriver/include\n",
      "  \u001b[31m   \u001b[0m copying clidriver/include/sqlunx.h -> build/lib.macosx-10.9-x86_64-cpython-38/clidriver/include\n",
      "  \u001b[31m   \u001b[0m creating build/lib.macosx-10.9-x86_64-cpython-38/clidriver/lib\n",
      "  \u001b[31m   \u001b[0m copying clidriver/lib/libDB2xml4c.58.0.dylib -> build/lib.macosx-10.9-x86_64-cpython-38/clidriver/lib\n",
      "  \u001b[31m   \u001b[0m copying clidriver/lib/libDB2xml4c.58.dylib -> build/lib.macosx-10.9-x86_64-cpython-38/clidriver/lib\n",
      "  \u001b[31m   \u001b[0m copying clidriver/lib/libDB2xml4c.dylib -> build/lib.macosx-10.9-x86_64-cpython-38/clidriver/lib\n",
      "  \u001b[31m   \u001b[0m copying clidriver/lib/libdb2.dylib -> build/lib.macosx-10.9-x86_64-cpython-38/clidriver/lib\n",
      "  \u001b[31m   \u001b[0m copying clidriver/lib/libdb2clixml4c.dylib -> build/lib.macosx-10.9-x86_64-cpython-38/clidriver/lib\n",
      "  \u001b[31m   \u001b[0m copying clidriver/lib/libstdc++.6.dylib -> build/lib.macosx-10.9-x86_64-cpython-38/clidriver/lib\n",
      "  \u001b[31m   \u001b[0m creating build/lib.macosx-10.9-x86_64-cpython-38/clidriver/lib/icc\n",
      "  \u001b[31m   \u001b[0m copying clidriver/lib/icc/libgsk8acmeidup.dylib -> build/lib.macosx-10.9-x86_64-cpython-38/clidriver/lib/icc\n",
      "  \u001b[31m   \u001b[0m copying clidriver/lib/icc/libgsk8cms.dylib -> build/lib.macosx-10.9-x86_64-cpython-38/clidriver/lib/icc\n",
      "  \u001b[31m   \u001b[0m copying clidriver/lib/icc/libgsk8dbfl.dylib -> build/lib.macosx-10.9-x86_64-cpython-38/clidriver/lib/icc\n",
      "  \u001b[31m   \u001b[0m copying clidriver/lib/icc/libgsk8drld.dylib -> build/lib.macosx-10.9-x86_64-cpython-38/clidriver/lib/icc\n",
      "  \u001b[31m   \u001b[0m copying clidriver/lib/icc/libgsk8iccs.dylib -> build/lib.macosx-10.9-x86_64-cpython-38/clidriver/lib/icc\n",
      "  \u001b[31m   \u001b[0m copying clidriver/lib/icc/libgsk8kicc.dylib -> build/lib.macosx-10.9-x86_64-cpython-38/clidriver/lib/icc\n",
      "  \u001b[31m   \u001b[0m copying clidriver/lib/icc/libgsk8km.dylib -> build/lib.macosx-10.9-x86_64-cpython-38/clidriver/lib/icc\n",
      "  \u001b[31m   \u001b[0m copying clidriver/lib/icc/libgsk8km2.dylib -> build/lib.macosx-10.9-x86_64-cpython-38/clidriver/lib/icc\n",
      "  \u001b[31m   \u001b[0m copying clidriver/lib/icc/libgsk8ldap.dylib -> build/lib.macosx-10.9-x86_64-cpython-38/clidriver/lib/icc\n",
      "  \u001b[31m   \u001b[0m copying clidriver/lib/icc/libgsk8p11.dylib -> build/lib.macosx-10.9-x86_64-cpython-38/clidriver/lib/icc\n",
      "  \u001b[31m   \u001b[0m copying clidriver/lib/icc/libgsk8ssl.dylib -> build/lib.macosx-10.9-x86_64-cpython-38/clidriver/lib/icc\n",
      "  \u001b[31m   \u001b[0m copying clidriver/lib/icc/libgsk8sys.dylib -> build/lib.macosx-10.9-x86_64-cpython-38/clidriver/lib/icc\n",
      "  \u001b[31m   \u001b[0m copying clidriver/lib/icc/libgsk8valn.dylib -> build/lib.macosx-10.9-x86_64-cpython-38/clidriver/lib/icc\n",
      "  \u001b[31m   \u001b[0m creating build/lib.macosx-10.9-x86_64-cpython-38/clidriver/lib/icc/C\n",
      "  \u001b[31m   \u001b[0m creating build/lib.macosx-10.9-x86_64-cpython-38/clidriver/lib/icc/C/icc\n",
      "  \u001b[31m   \u001b[0m creating build/lib.macosx-10.9-x86_64-cpython-38/clidriver/lib/icc/C/icc/icclib\n",
      "  \u001b[31m   \u001b[0m copying clidriver/lib/icc/C/icc/icclib/ICCSIG.txt -> build/lib.macosx-10.9-x86_64-cpython-38/clidriver/lib/icc/C/icc/icclib\n",
      "  \u001b[31m   \u001b[0m copying clidriver/lib/icc/C/icc/icclib/libicclib084.dylib -> build/lib.macosx-10.9-x86_64-cpython-38/clidriver/lib/icc/C/icc/icclib\n",
      "  \u001b[31m   \u001b[0m creating build/lib.macosx-10.9-x86_64-cpython-38/clidriver/lib/icc/N\n",
      "  \u001b[31m   \u001b[0m creating build/lib.macosx-10.9-x86_64-cpython-38/clidriver/lib/icc/N/icc\n",
      "  \u001b[31m   \u001b[0m creating build/lib.macosx-10.9-x86_64-cpython-38/clidriver/lib/icc/N/icc/icclib\n",
      "  \u001b[31m   \u001b[0m copying clidriver/lib/icc/N/icc/icclib/ICCSIG.txt -> build/lib.macosx-10.9-x86_64-cpython-38/clidriver/lib/icc/N/icc/icclib\n",
      "  \u001b[31m   \u001b[0m copying clidriver/lib/icc/N/icc/icclib/libicclib085.dylib -> build/lib.macosx-10.9-x86_64-cpython-38/clidriver/lib/icc/N/icc/icclib\n",
      "  \u001b[31m   \u001b[0m creating build/lib.macosx-10.9-x86_64-cpython-38/clidriver/license\n",
      "  \u001b[31m   \u001b[0m copying clidriver/license/odbc_REDIST.txt -> build/lib.macosx-10.9-x86_64-cpython-38/clidriver/license\n",
      "  \u001b[31m   \u001b[0m copying clidriver/license/odbc_notices.txt -> build/lib.macosx-10.9-x86_64-cpython-38/clidriver/license\n",
      "  \u001b[31m   \u001b[0m creating build/lib.macosx-10.9-x86_64-cpython-38/clidriver/license/UNIX\n",
      "  \u001b[31m   \u001b[0m copying clidriver/license/UNIX/odbc_LI_cs -> build/lib.macosx-10.9-x86_64-cpython-38/clidriver/license/UNIX\n",
      "  \u001b[31m   \u001b[0m copying clidriver/license/UNIX/odbc_LI_de -> build/lib.macosx-10.9-x86_64-cpython-38/clidriver/license/UNIX\n",
      "  \u001b[31m   \u001b[0m copying clidriver/license/UNIX/odbc_LI_el -> build/lib.macosx-10.9-x86_64-cpython-38/clidriver/license/UNIX\n",
      "  \u001b[31m   \u001b[0m copying clidriver/license/UNIX/odbc_LI_en -> build/lib.macosx-10.9-x86_64-cpython-38/clidriver/license/UNIX\n",
      "  \u001b[31m   \u001b[0m copying clidriver/license/UNIX/odbc_LI_es -> build/lib.macosx-10.9-x86_64-cpython-38/clidriver/license/UNIX\n",
      "  \u001b[31m   \u001b[0m copying clidriver/license/UNIX/odbc_LI_fr -> build/lib.macosx-10.9-x86_64-cpython-38/clidriver/license/UNIX\n",
      "  \u001b[31m   \u001b[0m copying clidriver/license/UNIX/odbc_LI_in -> build/lib.macosx-10.9-x86_64-cpython-38/clidriver/license/UNIX\n",
      "  \u001b[31m   \u001b[0m copying clidriver/license/UNIX/odbc_LI_it -> build/lib.macosx-10.9-x86_64-cpython-38/clidriver/license/UNIX\n",
      "  \u001b[31m   \u001b[0m copying clidriver/license/UNIX/odbc_LI_ja -> build/lib.macosx-10.9-x86_64-cpython-38/clidriver/license/UNIX\n",
      "  \u001b[31m   \u001b[0m copying clidriver/license/UNIX/odbc_LI_ko -> build/lib.macosx-10.9-x86_64-cpython-38/clidriver/license/UNIX\n",
      "  \u001b[31m   \u001b[0m copying clidriver/license/UNIX/odbc_LI_lt -> build/lib.macosx-10.9-x86_64-cpython-38/clidriver/license/UNIX\n",
      "  \u001b[31m   \u001b[0m copying clidriver/license/UNIX/odbc_LI_pl -> build/lib.macosx-10.9-x86_64-cpython-38/clidriver/license/UNIX\n",
      "  \u001b[31m   \u001b[0m copying clidriver/license/UNIX/odbc_LI_pt -> build/lib.macosx-10.9-x86_64-cpython-38/clidriver/license/UNIX\n",
      "  \u001b[31m   \u001b[0m copying clidriver/license/UNIX/odbc_LI_ru -> build/lib.macosx-10.9-x86_64-cpython-38/clidriver/license/UNIX\n",
      "  \u001b[31m   \u001b[0m copying clidriver/license/UNIX/odbc_LI_sl -> build/lib.macosx-10.9-x86_64-cpython-38/clidriver/license/UNIX\n",
      "  \u001b[31m   \u001b[0m copying clidriver/license/UNIX/odbc_LI_tr -> build/lib.macosx-10.9-x86_64-cpython-38/clidriver/license/UNIX\n",
      "  \u001b[31m   \u001b[0m copying clidriver/license/UNIX/odbc_LI_zh -> build/lib.macosx-10.9-x86_64-cpython-38/clidriver/license/UNIX\n",
      "  \u001b[31m   \u001b[0m copying clidriver/license/UNIX/odbc_LI_zh_TW -> build/lib.macosx-10.9-x86_64-cpython-38/clidriver/license/UNIX\n",
      "  \u001b[31m   \u001b[0m creating build/lib.macosx-10.9-x86_64-cpython-38/clidriver/msg\n",
      "  \u001b[31m   \u001b[0m creating build/lib.macosx-10.9-x86_64-cpython-38/clidriver/msg/en_US.iso88591\n",
      "  \u001b[31m   \u001b[0m copying clidriver/msg/en_US.iso88591/db2adm.mo -> build/lib.macosx-10.9-x86_64-cpython-38/clidriver/msg/en_US.iso88591\n",
      "  \u001b[31m   \u001b[0m copying clidriver/msg/en_US.iso88591/db2admh.mo -> build/lib.macosx-10.9-x86_64-cpython-38/clidriver/msg/en_US.iso88591\n",
      "  \u001b[31m   \u001b[0m copying clidriver/msg/en_US.iso88591/db2caem.mo -> build/lib.macosx-10.9-x86_64-cpython-38/clidriver/msg/en_US.iso88591\n",
      "  \u001b[31m   \u001b[0m copying clidriver/msg/en_US.iso88591/db2cklog.mo -> build/lib.macosx-10.9-x86_64-cpython-38/clidriver/msg/en_US.iso88591\n",
      "  \u001b[31m   \u001b[0m copying clidriver/msg/en_US.iso88591/db2cli.mo -> build/lib.macosx-10.9-x86_64-cpython-38/clidriver/msg/en_US.iso88591\n",
      "  \u001b[31m   \u001b[0m copying clidriver/msg/en_US.iso88591/db2clia1.lst -> build/lib.macosx-10.9-x86_64-cpython-38/clidriver/msg/en_US.iso88591\n",
      "  \u001b[31m   \u001b[0m copying clidriver/msg/en_US.iso88591/db2clias.lst -> build/lib.macosx-10.9-x86_64-cpython-38/clidriver/msg/en_US.iso88591\n",
      "  \u001b[31m   \u001b[0m copying clidriver/msg/en_US.iso88591/db2clih.mo -> build/lib.macosx-10.9-x86_64-cpython-38/clidriver/msg/en_US.iso88591\n",
      "  \u001b[31m   \u001b[0m copying clidriver/msg/en_US.iso88591/db2clit.mo -> build/lib.macosx-10.9-x86_64-cpython-38/clidriver/msg/en_US.iso88591\n",
      "  \u001b[31m   \u001b[0m copying clidriver/msg/en_US.iso88591/db2clp.mo -> build/lib.macosx-10.9-x86_64-cpython-38/clidriver/msg/en_US.iso88591\n",
      "  \u001b[31m   \u001b[0m copying clidriver/msg/en_US.iso88591/db2clp2.mo -> build/lib.macosx-10.9-x86_64-cpython-38/clidriver/msg/en_US.iso88591\n",
      "  \u001b[31m   \u001b[0m copying clidriver/msg/en_US.iso88591/db2diag.mo -> build/lib.macosx-10.9-x86_64-cpython-38/clidriver/msg/en_US.iso88591\n",
      "  \u001b[31m   \u001b[0m copying clidriver/msg/en_US.iso88591/db2fodc.mo -> build/lib.macosx-10.9-x86_64-cpython-38/clidriver/msg/en_US.iso88591\n",
      "  \u001b[31m   \u001b[0m copying clidriver/msg/en_US.iso88591/db2sql.mo -> build/lib.macosx-10.9-x86_64-cpython-38/clidriver/msg/en_US.iso88591\n",
      "  \u001b[31m   \u001b[0m copying clidriver/msg/en_US.iso88591/db2sqlh.mo -> build/lib.macosx-10.9-x86_64-cpython-38/clidriver/msg/en_US.iso88591\n",
      "  \u001b[31m   \u001b[0m copying clidriver/msg/en_US.iso88591/db2stt.mo -> build/lib.macosx-10.9-x86_64-cpython-38/clidriver/msg/en_US.iso88591\n",
      "  \u001b[31m   \u001b[0m copying clidriver/msg/en_US.iso88591/db2supp.mo -> build/lib.macosx-10.9-x86_64-cpython-38/clidriver/msg/en_US.iso88591\n",
      "  \u001b[31m   \u001b[0m creating build/lib.macosx-10.9-x86_64-cpython-38/clidriver/security64\n",
      "  \u001b[31m   \u001b[0m creating build/lib.macosx-10.9-x86_64-cpython-38/clidriver/security64/plugin\n",
      "  \u001b[31m   \u001b[0m creating build/lib.macosx-10.9-x86_64-cpython-38/clidriver/security64/plugin/IBM\n",
      "  \u001b[31m   \u001b[0m creating build/lib.macosx-10.9-x86_64-cpython-38/clidriver/security64/plugin/IBM/client\n",
      "  \u001b[31m   \u001b[0m copying clidriver/security64/plugin/IBM/client/IBMIAMauth.dylib -> build/lib.macosx-10.9-x86_64-cpython-38/clidriver/security64/plugin/IBM/client\n",
      "  \u001b[31m   \u001b[0m running build_ext\n",
      "  \u001b[31m   \u001b[0m building 'ibm_db' extension\n",
      "  \u001b[31m   \u001b[0m creating build/temp.macosx-10.9-x86_64-cpython-38\n",
      "  \u001b[31m   \u001b[0m gcc -Wno-unused-result -Wsign-compare -Wunreachable-code -DNDEBUG -g -fwrapv -O3 -Wall -Wstrict-prototypes -I/Users/qingyili/opt/anaconda3/include -arch x86_64 -I/Users/qingyili/opt/anaconda3/include -arch x86_64 -Iclidriver/include -I/Users/qingyili/opt/anaconda3/include/python3.8 -c ibm_db.c -o build/temp.macosx-10.9-x86_64-cpython-38/ibm_db.o\n",
      "  \u001b[31m   \u001b[0m xcrun: error: invalid active developer path (/Library/Developer/CommandLineTools), missing xcrun at: /Library/Developer/CommandLineTools/usr/bin/xcrun\n",
      "  \u001b[31m   \u001b[0m /private/var/folders/8g/vfl4yhsd3h941rc3wlmljygm0000gn/T/pip-build-env-zmbwoi_w/overlay/lib/python3.8/site-packages/setuptools/command/build_py.py:153: SetuptoolsDeprecationWarning:     !!\n",
      "  \u001b[31m   \u001b[0m \n",
      "  \u001b[31m   \u001b[0m \n",
      "  \u001b[31m   \u001b[0m     ############################\n",
      "  \u001b[31m   \u001b[0m     # Package would be ignored #\n",
      "  \u001b[31m   \u001b[0m     ############################\n",
      "  \u001b[31m   \u001b[0m     Python recognizes 'clidriver.bin' as an importable package, however it is\n",
      "  \u001b[31m   \u001b[0m     included in the distribution as \"data\".\n",
      "  \u001b[31m   \u001b[0m     This behavior is likely to change in future versions of setuptools (and\n",
      "  \u001b[31m   \u001b[0m     therefore is considered deprecated).\n",
      "  \u001b[31m   \u001b[0m \n",
      "  \u001b[31m   \u001b[0m     Please make sure that 'clidriver.bin' is included as a package by using\n",
      "  \u001b[31m   \u001b[0m     setuptools' `packages` configuration field or the proper discovery methods.\n",
      "  \u001b[31m   \u001b[0m \n",
      "  \u001b[31m   \u001b[0m     You can read more about \"package discovery\" and \"data files\" on setuptools\n",
      "  \u001b[31m   \u001b[0m     documentation page.\n",
      "  \u001b[31m   \u001b[0m \n",
      "  \u001b[31m   \u001b[0m \n",
      "  \u001b[31m   \u001b[0m !!\n",
      "  \u001b[31m   \u001b[0m \n",
      "  \u001b[31m   \u001b[0m   check.warn(importable)\n",
      "  \u001b[31m   \u001b[0m /private/var/folders/8g/vfl4yhsd3h941rc3wlmljygm0000gn/T/pip-build-env-zmbwoi_w/overlay/lib/python3.8/site-packages/setuptools/command/build_py.py:153: SetuptoolsDeprecationWarning:     !!\n",
      "  \u001b[31m   \u001b[0m \n",
      "  \u001b[31m   \u001b[0m \n",
      "  \u001b[31m   \u001b[0m     ############################\n",
      "  \u001b[31m   \u001b[0m     # Package would be ignored #\n",
      "  \u001b[31m   \u001b[0m     ############################\n",
      "  \u001b[31m   \u001b[0m     Python recognizes 'clidriver.bnd' as an importable package, however it is\n",
      "  \u001b[31m   \u001b[0m     included in the distribution as \"data\".\n",
      "  \u001b[31m   \u001b[0m     This behavior is likely to change in future versions of setuptools (and\n",
      "  \u001b[31m   \u001b[0m     therefore is considered deprecated).\n",
      "  \u001b[31m   \u001b[0m \n",
      "  \u001b[31m   \u001b[0m     Please make sure that 'clidriver.bnd' is included as a package by using\n",
      "  \u001b[31m   \u001b[0m     setuptools' `packages` configuration field or the proper discovery methods.\n",
      "  \u001b[31m   \u001b[0m \n",
      "  \u001b[31m   \u001b[0m     You can read more about \"package discovery\" and \"data files\" on setuptools\n",
      "  \u001b[31m   \u001b[0m     documentation page.\n",
      "  \u001b[31m   \u001b[0m \n",
      "  \u001b[31m   \u001b[0m \n",
      "  \u001b[31m   \u001b[0m !!\n",
      "  \u001b[31m   \u001b[0m \n",
      "  \u001b[31m   \u001b[0m   check.warn(importable)\n",
      "  \u001b[31m   \u001b[0m /private/var/folders/8g/vfl4yhsd3h941rc3wlmljygm0000gn/T/pip-build-env-zmbwoi_w/overlay/lib/python3.8/site-packages/setuptools/command/build_py.py:153: SetuptoolsDeprecationWarning:     !!\n",
      "  \u001b[31m   \u001b[0m \n",
      "  \u001b[31m   \u001b[0m \n",
      "  \u001b[31m   \u001b[0m     ############################\n",
      "  \u001b[31m   \u001b[0m     # Package would be ignored #\n",
      "  \u001b[31m   \u001b[0m     ############################\n",
      "  \u001b[31m   \u001b[0m     Python recognizes 'clidriver.cfg' as an importable package, however it is\n",
      "  \u001b[31m   \u001b[0m     included in the distribution as \"data\".\n",
      "  \u001b[31m   \u001b[0m     This behavior is likely to change in future versions of setuptools (and\n",
      "  \u001b[31m   \u001b[0m     therefore is considered deprecated).\n",
      "  \u001b[31m   \u001b[0m \n",
      "  \u001b[31m   \u001b[0m     Please make sure that 'clidriver.cfg' is included as a package by using\n",
      "  \u001b[31m   \u001b[0m     setuptools' `packages` configuration field or the proper discovery methods.\n",
      "  \u001b[31m   \u001b[0m \n",
      "  \u001b[31m   \u001b[0m     You can read more about \"package discovery\" and \"data files\" on setuptools\n",
      "  \u001b[31m   \u001b[0m     documentation page.\n",
      "  \u001b[31m   \u001b[0m \n",
      "  \u001b[31m   \u001b[0m \n",
      "  \u001b[31m   \u001b[0m !!\n",
      "  \u001b[31m   \u001b[0m \n",
      "  \u001b[31m   \u001b[0m   check.warn(importable)\n",
      "  \u001b[31m   \u001b[0m /private/var/folders/8g/vfl4yhsd3h941rc3wlmljygm0000gn/T/pip-build-env-zmbwoi_w/overlay/lib/python3.8/site-packages/setuptools/command/build_py.py:153: SetuptoolsDeprecationWarning:     !!\n",
      "  \u001b[31m   \u001b[0m \n",
      "  \u001b[31m   \u001b[0m \n",
      "  \u001b[31m   \u001b[0m     ############################\n",
      "  \u001b[31m   \u001b[0m     # Package would be ignored #\n",
      "  \u001b[31m   \u001b[0m     ############################\n",
      "  \u001b[31m   \u001b[0m     Python recognizes 'clidriver.cfgcache' as an importable package, however it is\n",
      "  \u001b[31m   \u001b[0m     included in the distribution as \"data\".\n",
      "  \u001b[31m   \u001b[0m     This behavior is likely to change in future versions of setuptools (and\n",
      "  \u001b[31m   \u001b[0m     therefore is considered deprecated).\n",
      "  \u001b[31m   \u001b[0m \n",
      "  \u001b[31m   \u001b[0m     Please make sure that 'clidriver.cfgcache' is included as a package by using\n",
      "  \u001b[31m   \u001b[0m     setuptools' `packages` configuration field or the proper discovery methods.\n",
      "  \u001b[31m   \u001b[0m \n",
      "  \u001b[31m   \u001b[0m     You can read more about \"package discovery\" and \"data files\" on setuptools\n",
      "  \u001b[31m   \u001b[0m     documentation page.\n",
      "  \u001b[31m   \u001b[0m \n",
      "  \u001b[31m   \u001b[0m \n",
      "  \u001b[31m   \u001b[0m !!\n",
      "  \u001b[31m   \u001b[0m \n",
      "  \u001b[31m   \u001b[0m   check.warn(importable)\n",
      "  \u001b[31m   \u001b[0m /private/var/folders/8g/vfl4yhsd3h941rc3wlmljygm0000gn/T/pip-build-env-zmbwoi_w/overlay/lib/python3.8/site-packages/setuptools/command/build_py.py:153: SetuptoolsDeprecationWarning:     !!\n",
      "  \u001b[31m   \u001b[0m \n",
      "  \u001b[31m   \u001b[0m \n",
      "  \u001b[31m   \u001b[0m     ############################\n",
      "  \u001b[31m   \u001b[0m     # Package would be ignored #\n",
      "  \u001b[31m   \u001b[0m     ############################\n",
      "  \u001b[31m   \u001b[0m     Python recognizes 'clidriver.conv.alt' as an importable package, however it is\n",
      "  \u001b[31m   \u001b[0m     included in the distribution as \"data\".\n",
      "  \u001b[31m   \u001b[0m     This behavior is likely to change in future versions of setuptools (and\n",
      "  \u001b[31m   \u001b[0m     therefore is considered deprecated).\n",
      "  \u001b[31m   \u001b[0m \n",
      "  \u001b[31m   \u001b[0m     Please make sure that 'clidriver.conv.alt' is included as a package by using\n",
      "  \u001b[31m   \u001b[0m     setuptools' `packages` configuration field or the proper discovery methods.\n",
      "  \u001b[31m   \u001b[0m \n",
      "  \u001b[31m   \u001b[0m     You can read more about \"package discovery\" and \"data files\" on setuptools\n",
      "  \u001b[31m   \u001b[0m     documentation page.\n",
      "  \u001b[31m   \u001b[0m \n",
      "  \u001b[31m   \u001b[0m \n",
      "  \u001b[31m   \u001b[0m !!\n",
      "  \u001b[31m   \u001b[0m \n",
      "  \u001b[31m   \u001b[0m   check.warn(importable)\n",
      "  \u001b[31m   \u001b[0m /private/var/folders/8g/vfl4yhsd3h941rc3wlmljygm0000gn/T/pip-build-env-zmbwoi_w/overlay/lib/python3.8/site-packages/setuptools/command/build_py.py:153: SetuptoolsDeprecationWarning:     !!\n",
      "  \u001b[31m   \u001b[0m \n",
      "  \u001b[31m   \u001b[0m \n",
      "  \u001b[31m   \u001b[0m     ############################\n",
      "  \u001b[31m   \u001b[0m     # Package would be ignored #\n",
      "  \u001b[31m   \u001b[0m     ############################\n",
      "  \u001b[31m   \u001b[0m     Python recognizes 'clidriver.conv.ms' as an importable package, however it is\n",
      "  \u001b[31m   \u001b[0m     included in the distribution as \"data\".\n",
      "  \u001b[31m   \u001b[0m     This behavior is likely to change in future versions of setuptools (and\n",
      "  \u001b[31m   \u001b[0m     therefore is considered deprecated).\n",
      "  \u001b[31m   \u001b[0m \n",
      "  \u001b[31m   \u001b[0m     Please make sure that 'clidriver.conv.ms' is included as a package by using\n",
      "  \u001b[31m   \u001b[0m     setuptools' `packages` configuration field or the proper discovery methods.\n",
      "  \u001b[31m   \u001b[0m \n",
      "  \u001b[31m   \u001b[0m     You can read more about \"package discovery\" and \"data files\" on setuptools\n",
      "  \u001b[31m   \u001b[0m     documentation page.\n",
      "  \u001b[31m   \u001b[0m \n",
      "  \u001b[31m   \u001b[0m \n",
      "  \u001b[31m   \u001b[0m !!\n",
      "  \u001b[31m   \u001b[0m \n",
      "  \u001b[31m   \u001b[0m   check.warn(importable)\n",
      "  \u001b[31m   \u001b[0m /private/var/folders/8g/vfl4yhsd3h941rc3wlmljygm0000gn/T/pip-build-env-zmbwoi_w/overlay/lib/python3.8/site-packages/setuptools/command/build_py.py:153: SetuptoolsDeprecationWarning:     !!\n",
      "  \u001b[31m   \u001b[0m \n",
      "  \u001b[31m   \u001b[0m \n",
      "  \u001b[31m   \u001b[0m     ############################\n",
      "  \u001b[31m   \u001b[0m     # Package would be ignored #\n",
      "  \u001b[31m   \u001b[0m     ############################\n",
      "  \u001b[31m   \u001b[0m     Python recognizes 'clidriver.include' as an importable package, however it is\n",
      "  \u001b[31m   \u001b[0m     included in the distribution as \"data\".\n",
      "  \u001b[31m   \u001b[0m     This behavior is likely to change in future versions of setuptools (and\n",
      "  \u001b[31m   \u001b[0m     therefore is considered deprecated).\n",
      "  \u001b[31m   \u001b[0m \n",
      "  \u001b[31m   \u001b[0m     Please make sure that 'clidriver.include' is included as a package by using\n",
      "  \u001b[31m   \u001b[0m     setuptools' `packages` configuration field or the proper discovery methods.\n",
      "  \u001b[31m   \u001b[0m \n",
      "  \u001b[31m   \u001b[0m     You can read more about \"package discovery\" and \"data files\" on setuptools\n",
      "  \u001b[31m   \u001b[0m     documentation page.\n",
      "  \u001b[31m   \u001b[0m \n",
      "  \u001b[31m   \u001b[0m \n",
      "  \u001b[31m   \u001b[0m !!\n",
      "  \u001b[31m   \u001b[0m \n",
      "  \u001b[31m   \u001b[0m   check.warn(importable)\n",
      "  \u001b[31m   \u001b[0m /private/var/folders/8g/vfl4yhsd3h941rc3wlmljygm0000gn/T/pip-build-env-zmbwoi_w/overlay/lib/python3.8/site-packages/setuptools/command/build_py.py:153: SetuptoolsDeprecationWarning:     !!\n",
      "  \u001b[31m   \u001b[0m \n",
      "  \u001b[31m   \u001b[0m \n",
      "  \u001b[31m   \u001b[0m     ############################\n",
      "  \u001b[31m   \u001b[0m     # Package would be ignored #\n",
      "  \u001b[31m   \u001b[0m     ############################\n",
      "  \u001b[31m   \u001b[0m     Python recognizes 'clidriver.lib' as an importable package, however it is\n",
      "  \u001b[31m   \u001b[0m     included in the distribution as \"data\".\n",
      "  \u001b[31m   \u001b[0m     This behavior is likely to change in future versions of setuptools (and\n",
      "  \u001b[31m   \u001b[0m     therefore is considered deprecated).\n",
      "  \u001b[31m   \u001b[0m \n",
      "  \u001b[31m   \u001b[0m     Please make sure that 'clidriver.lib' is included as a package by using\n",
      "  \u001b[31m   \u001b[0m     setuptools' `packages` configuration field or the proper discovery methods.\n",
      "  \u001b[31m   \u001b[0m \n",
      "  \u001b[31m   \u001b[0m     You can read more about \"package discovery\" and \"data files\" on setuptools\n",
      "  \u001b[31m   \u001b[0m     documentation page.\n",
      "  \u001b[31m   \u001b[0m \n",
      "  \u001b[31m   \u001b[0m \n",
      "  \u001b[31m   \u001b[0m !!\n",
      "  \u001b[31m   \u001b[0m \n",
      "  \u001b[31m   \u001b[0m   check.warn(importable)\n",
      "  \u001b[31m   \u001b[0m /private/var/folders/8g/vfl4yhsd3h941rc3wlmljygm0000gn/T/pip-build-env-zmbwoi_w/overlay/lib/python3.8/site-packages/setuptools/command/build_py.py:153: SetuptoolsDeprecationWarning:     !!\n",
      "  \u001b[31m   \u001b[0m \n",
      "  \u001b[31m   \u001b[0m \n",
      "  \u001b[31m   \u001b[0m     ############################\n",
      "  \u001b[31m   \u001b[0m     # Package would be ignored #\n",
      "  \u001b[31m   \u001b[0m     ############################\n",
      "  \u001b[31m   \u001b[0m     Python recognizes 'clidriver.lib.icc' as an importable package, however it is\n",
      "  \u001b[31m   \u001b[0m     included in the distribution as \"data\".\n",
      "  \u001b[31m   \u001b[0m     This behavior is likely to change in future versions of setuptools (and\n",
      "  \u001b[31m   \u001b[0m     therefore is considered deprecated).\n",
      "  \u001b[31m   \u001b[0m \n",
      "  \u001b[31m   \u001b[0m     Please make sure that 'clidriver.lib.icc' is included as a package by using\n",
      "  \u001b[31m   \u001b[0m     setuptools' `packages` configuration field or the proper discovery methods.\n",
      "  \u001b[31m   \u001b[0m \n",
      "  \u001b[31m   \u001b[0m     You can read more about \"package discovery\" and \"data files\" on setuptools\n",
      "  \u001b[31m   \u001b[0m     documentation page.\n",
      "  \u001b[31m   \u001b[0m \n",
      "  \u001b[31m   \u001b[0m \n",
      "  \u001b[31m   \u001b[0m !!\n",
      "  \u001b[31m   \u001b[0m \n",
      "  \u001b[31m   \u001b[0m   check.warn(importable)\n",
      "  \u001b[31m   \u001b[0m /private/var/folders/8g/vfl4yhsd3h941rc3wlmljygm0000gn/T/pip-build-env-zmbwoi_w/overlay/lib/python3.8/site-packages/setuptools/command/build_py.py:153: SetuptoolsDeprecationWarning:     !!\n",
      "  \u001b[31m   \u001b[0m \n",
      "  \u001b[31m   \u001b[0m \n",
      "  \u001b[31m   \u001b[0m     ############################\n",
      "  \u001b[31m   \u001b[0m     # Package would be ignored #\n",
      "  \u001b[31m   \u001b[0m     ############################\n",
      "  \u001b[31m   \u001b[0m     Python recognizes 'clidriver.lib.icc.C.icc.icclib' as an importable package, however it is\n",
      "  \u001b[31m   \u001b[0m     included in the distribution as \"data\".\n",
      "  \u001b[31m   \u001b[0m     This behavior is likely to change in future versions of setuptools (and\n",
      "  \u001b[31m   \u001b[0m     therefore is considered deprecated).\n",
      "  \u001b[31m   \u001b[0m \n",
      "  \u001b[31m   \u001b[0m     Please make sure that 'clidriver.lib.icc.C.icc.icclib' is included as a package by using\n",
      "  \u001b[31m   \u001b[0m     setuptools' `packages` configuration field or the proper discovery methods.\n",
      "  \u001b[31m   \u001b[0m \n",
      "  \u001b[31m   \u001b[0m     You can read more about \"package discovery\" and \"data files\" on setuptools\n",
      "  \u001b[31m   \u001b[0m     documentation page.\n",
      "  \u001b[31m   \u001b[0m \n",
      "  \u001b[31m   \u001b[0m \n",
      "  \u001b[31m   \u001b[0m !!\n",
      "  \u001b[31m   \u001b[0m \n",
      "  \u001b[31m   \u001b[0m   check.warn(importable)\n",
      "  \u001b[31m   \u001b[0m /private/var/folders/8g/vfl4yhsd3h941rc3wlmljygm0000gn/T/pip-build-env-zmbwoi_w/overlay/lib/python3.8/site-packages/setuptools/command/build_py.py:153: SetuptoolsDeprecationWarning:     !!\n",
      "  \u001b[31m   \u001b[0m \n",
      "  \u001b[31m   \u001b[0m \n",
      "  \u001b[31m   \u001b[0m     ############################\n",
      "  \u001b[31m   \u001b[0m     # Package would be ignored #\n",
      "  \u001b[31m   \u001b[0m     ############################\n",
      "  \u001b[31m   \u001b[0m     Python recognizes 'clidriver.lib.icc.N.icc.icclib' as an importable package, however it is\n",
      "  \u001b[31m   \u001b[0m     included in the distribution as \"data\".\n",
      "  \u001b[31m   \u001b[0m     This behavior is likely to change in future versions of setuptools (and\n",
      "  \u001b[31m   \u001b[0m     therefore is considered deprecated).\n",
      "  \u001b[31m   \u001b[0m \n",
      "  \u001b[31m   \u001b[0m     Please make sure that 'clidriver.lib.icc.N.icc.icclib' is included as a package by using\n",
      "  \u001b[31m   \u001b[0m     setuptools' `packages` configuration field or the proper discovery methods.\n",
      "  \u001b[31m   \u001b[0m \n",
      "  \u001b[31m   \u001b[0m     You can read more about \"package discovery\" and \"data files\" on setuptools\n",
      "  \u001b[31m   \u001b[0m     documentation page.\n",
      "  \u001b[31m   \u001b[0m \n",
      "  \u001b[31m   \u001b[0m \n",
      "  \u001b[31m   \u001b[0m !!\n",
      "  \u001b[31m   \u001b[0m \n",
      "  \u001b[31m   \u001b[0m   check.warn(importable)\n",
      "  \u001b[31m   \u001b[0m /private/var/folders/8g/vfl4yhsd3h941rc3wlmljygm0000gn/T/pip-build-env-zmbwoi_w/overlay/lib/python3.8/site-packages/setuptools/command/build_py.py:153: SetuptoolsDeprecationWarning:     !!\n",
      "  \u001b[31m   \u001b[0m \n",
      "  \u001b[31m   \u001b[0m \n",
      "  \u001b[31m   \u001b[0m     ############################\n",
      "  \u001b[31m   \u001b[0m     # Package would be ignored #\n",
      "  \u001b[31m   \u001b[0m     ############################\n",
      "  \u001b[31m   \u001b[0m     Python recognizes 'clidriver.license' as an importable package, however it is\n",
      "  \u001b[31m   \u001b[0m     included in the distribution as \"data\".\n",
      "  \u001b[31m   \u001b[0m     This behavior is likely to change in future versions of setuptools (and\n",
      "  \u001b[31m   \u001b[0m     therefore is considered deprecated).\n",
      "  \u001b[31m   \u001b[0m \n",
      "  \u001b[31m   \u001b[0m     Please make sure that 'clidriver.license' is included as a package by using\n",
      "  \u001b[31m   \u001b[0m     setuptools' `packages` configuration field or the proper discovery methods.\n",
      "  \u001b[31m   \u001b[0m \n",
      "  \u001b[31m   \u001b[0m     You can read more about \"package discovery\" and \"data files\" on setuptools\n",
      "  \u001b[31m   \u001b[0m     documentation page.\n",
      "  \u001b[31m   \u001b[0m \n",
      "  \u001b[31m   \u001b[0m \n",
      "  \u001b[31m   \u001b[0m !!\n",
      "  \u001b[31m   \u001b[0m \n",
      "  \u001b[31m   \u001b[0m   check.warn(importable)\n",
      "  \u001b[31m   \u001b[0m /private/var/folders/8g/vfl4yhsd3h941rc3wlmljygm0000gn/T/pip-build-env-zmbwoi_w/overlay/lib/python3.8/site-packages/setuptools/command/build_py.py:153: SetuptoolsDeprecationWarning:     !!\n",
      "  \u001b[31m   \u001b[0m \n",
      "  \u001b[31m   \u001b[0m \n",
      "  \u001b[31m   \u001b[0m     ############################\n",
      "  \u001b[31m   \u001b[0m     # Package would be ignored #\n",
      "  \u001b[31m   \u001b[0m     ############################\n",
      "  \u001b[31m   \u001b[0m     Python recognizes 'clidriver.license.UNIX' as an importable package, however it is\n",
      "  \u001b[31m   \u001b[0m     included in the distribution as \"data\".\n",
      "  \u001b[31m   \u001b[0m     This behavior is likely to change in future versions of setuptools (and\n",
      "  \u001b[31m   \u001b[0m     therefore is considered deprecated).\n",
      "  \u001b[31m   \u001b[0m \n",
      "  \u001b[31m   \u001b[0m     Please make sure that 'clidriver.license.UNIX' is included as a package by using\n",
      "  \u001b[31m   \u001b[0m     setuptools' `packages` configuration field or the proper discovery methods.\n",
      "  \u001b[31m   \u001b[0m \n",
      "  \u001b[31m   \u001b[0m     You can read more about \"package discovery\" and \"data files\" on setuptools\n",
      "  \u001b[31m   \u001b[0m     documentation page.\n",
      "  \u001b[31m   \u001b[0m \n",
      "  \u001b[31m   \u001b[0m \n",
      "  \u001b[31m   \u001b[0m !!\n",
      "  \u001b[31m   \u001b[0m \n",
      "  \u001b[31m   \u001b[0m   check.warn(importable)\n",
      "  \u001b[31m   \u001b[0m /private/var/folders/8g/vfl4yhsd3h941rc3wlmljygm0000gn/T/pip-build-env-zmbwoi_w/overlay/lib/python3.8/site-packages/setuptools/command/build_py.py:153: SetuptoolsDeprecationWarning:     !!\n",
      "  \u001b[31m   \u001b[0m \n",
      "  \u001b[31m   \u001b[0m \n",
      "  \u001b[31m   \u001b[0m     ############################\n",
      "  \u001b[31m   \u001b[0m     # Package would be ignored #\n",
      "  \u001b[31m   \u001b[0m     ############################\n",
      "  \u001b[31m   \u001b[0m     Python recognizes 'clidriver.msg' as an importable package, however it is\n",
      "  \u001b[31m   \u001b[0m     included in the distribution as \"data\".\n",
      "  \u001b[31m   \u001b[0m     This behavior is likely to change in future versions of setuptools (and\n",
      "  \u001b[31m   \u001b[0m     therefore is considered deprecated).\n",
      "  \u001b[31m   \u001b[0m \n",
      "  \u001b[31m   \u001b[0m     Please make sure that 'clidriver.msg' is included as a package by using\n",
      "  \u001b[31m   \u001b[0m     setuptools' `packages` configuration field or the proper discovery methods.\n",
      "  \u001b[31m   \u001b[0m \n",
      "  \u001b[31m   \u001b[0m     You can read more about \"package discovery\" and \"data files\" on setuptools\n",
      "  \u001b[31m   \u001b[0m     documentation page.\n",
      "  \u001b[31m   \u001b[0m \n",
      "  \u001b[31m   \u001b[0m \n",
      "  \u001b[31m   \u001b[0m !!\n",
      "  \u001b[31m   \u001b[0m \n",
      "  \u001b[31m   \u001b[0m   check.warn(importable)\n",
      "  \u001b[31m   \u001b[0m /private/var/folders/8g/vfl4yhsd3h941rc3wlmljygm0000gn/T/pip-build-env-zmbwoi_w/overlay/lib/python3.8/site-packages/setuptools/command/build_py.py:153: SetuptoolsDeprecationWarning:     !!\n",
      "  \u001b[31m   \u001b[0m \n",
      "  \u001b[31m   \u001b[0m \n",
      "  \u001b[31m   \u001b[0m     ############################\n",
      "  \u001b[31m   \u001b[0m     # Package would be ignored #\n",
      "  \u001b[31m   \u001b[0m     ############################\n",
      "  \u001b[31m   \u001b[0m     Python recognizes 'clidriver.security64.plugin.IBM.client' as an importable package, however it is\n",
      "  \u001b[31m   \u001b[0m     included in the distribution as \"data\".\n",
      "  \u001b[31m   \u001b[0m     This behavior is likely to change in future versions of setuptools (and\n",
      "  \u001b[31m   \u001b[0m     therefore is considered deprecated).\n",
      "  \u001b[31m   \u001b[0m \n",
      "  \u001b[31m   \u001b[0m     Please make sure that 'clidriver.security64.plugin.IBM.client' is included as a package by using\n",
      "  \u001b[31m   \u001b[0m     setuptools' `packages` configuration field or the proper discovery methods.\n",
      "  \u001b[31m   \u001b[0m \n",
      "  \u001b[31m   \u001b[0m     You can read more about \"package discovery\" and \"data files\" on setuptools\n",
      "  \u001b[31m   \u001b[0m     documentation page.\n",
      "  \u001b[31m   \u001b[0m \n",
      "  \u001b[31m   \u001b[0m \n",
      "  \u001b[31m   \u001b[0m !!\n",
      "  \u001b[31m   \u001b[0m \n",
      "  \u001b[31m   \u001b[0m   check.warn(importable)\n",
      "  \u001b[31m   \u001b[0m error: command '/usr/bin/gcc' failed with exit code 1\n",
      "  \u001b[31m   \u001b[0m \u001b[31m[end of output]\u001b[0m\n",
      "  \n",
      "  \u001b[1;35mnote\u001b[0m: This error originates from a subprocess, and is likely not a problem with pip.\n",
      "\u001b[31m  ERROR: Failed building wheel for ibm-db\u001b[0m\u001b[31m\n",
      "\u001b[0m\u001b[?25hFailed to build ibm-db\n",
      "\u001b[31mERROR: Could not build wheels for ibm-db, which is required to install pyproject.toml-based projects\u001b[0m\u001b[31m\n"
     ]
    },
    {
     "name": "stdout",
     "output_type": "stream",
     "text": [
      "\u001b[0mRequirement already satisfied: ipython-sql in /Users/qingyili/opt/anaconda3/lib/python3.8/site-packages (0.4.0)\n",
      "Requirement already satisfied: sqlalchemy>=0.6.7 in /Users/qingyili/opt/anaconda3/lib/python3.8/site-packages (from ipython-sql) (1.3.9)\n",
      "Requirement already satisfied: six in /Users/qingyili/opt/anaconda3/lib/python3.8/site-packages (from ipython-sql) (1.15.0)\n",
      "Requirement already satisfied: prettytable<1 in /Users/qingyili/opt/anaconda3/lib/python3.8/site-packages (from ipython-sql) (0.7.2)\n",
      "Requirement already satisfied: ipython-genutils>=0.1.0 in /Users/qingyili/opt/anaconda3/lib/python3.8/site-packages (from ipython-sql) (0.2.0)\n",
      "Requirement already satisfied: ipython>=1.0 in /Users/qingyili/opt/anaconda3/lib/python3.8/site-packages (from ipython-sql) (7.22.0)\n",
      "Requirement already satisfied: sqlparse in /Users/qingyili/opt/anaconda3/lib/python3.8/site-packages (from ipython-sql) (0.4.2)\n",
      "Requirement already satisfied: setuptools>=18.5 in /Users/qingyili/opt/anaconda3/lib/python3.8/site-packages (from ipython>=1.0->ipython-sql) (52.0.0.post20210125)\n",
      "Requirement already satisfied: traitlets>=4.2 in /Users/qingyili/opt/anaconda3/lib/python3.8/site-packages (from ipython>=1.0->ipython-sql) (5.0.5)\n",
      "Requirement already satisfied: decorator in /Users/qingyili/opt/anaconda3/lib/python3.8/site-packages (from ipython>=1.0->ipython-sql) (5.0.6)\n",
      "Requirement already satisfied: pygments in /Users/qingyili/opt/anaconda3/lib/python3.8/site-packages (from ipython>=1.0->ipython-sql) (2.8.1)\n",
      "Requirement already satisfied: backcall in /Users/qingyili/opt/anaconda3/lib/python3.8/site-packages (from ipython>=1.0->ipython-sql) (0.2.0)\n",
      "Requirement already satisfied: jedi>=0.16 in /Users/qingyili/opt/anaconda3/lib/python3.8/site-packages (from ipython>=1.0->ipython-sql) (0.17.2)\n",
      "Requirement already satisfied: pexpect>4.3 in /Users/qingyili/opt/anaconda3/lib/python3.8/site-packages (from ipython>=1.0->ipython-sql) (4.8.0)\n",
      "Requirement already satisfied: prompt-toolkit!=3.0.0,!=3.0.1,<3.1.0,>=2.0.0 in /Users/qingyili/opt/anaconda3/lib/python3.8/site-packages (from ipython>=1.0->ipython-sql) (3.0.17)\n",
      "Requirement already satisfied: pickleshare in /Users/qingyili/opt/anaconda3/lib/python3.8/site-packages (from ipython>=1.0->ipython-sql) (0.7.5)\n",
      "Requirement already satisfied: appnope in /Users/qingyili/opt/anaconda3/lib/python3.8/site-packages (from ipython>=1.0->ipython-sql) (0.1.2)\n",
      "Requirement already satisfied: parso<0.8.0,>=0.7.0 in /Users/qingyili/opt/anaconda3/lib/python3.8/site-packages (from jedi>=0.16->ipython>=1.0->ipython-sql) (0.7.0)\n",
      "Requirement already satisfied: ptyprocess>=0.5 in /Users/qingyili/opt/anaconda3/lib/python3.8/site-packages (from pexpect>4.3->ipython>=1.0->ipython-sql) (0.7.0)\n",
      "Requirement already satisfied: wcwidth in /Users/qingyili/opt/anaconda3/lib/python3.8/site-packages (from prompt-toolkit!=3.0.0,!=3.0.1,<3.1.0,>=2.0.0->ipython>=1.0->ipython-sql) (0.2.5)\n"
     ]
    }
   ],
   "source": [
    "!pip install sqlalchemy==1.3.9\n",
    "!pip install ibm_db_sa\n",
    "!pip install ipython-sql"
   ]
  },
  {
   "cell_type": "markdown",
   "metadata": {},
   "source": [
    "### Connect to the database\n",
    "\n",
    "Let us first load the SQL extension and establish a connection with the database\n"
   ]
  },
  {
   "cell_type": "code",
   "execution_count": 2,
   "metadata": {},
   "outputs": [],
   "source": [
    "%load_ext sql"
   ]
  },
  {
   "cell_type": "markdown",
   "metadata": {},
   "source": [
    "**DB2 magic in case of old UI service credentials.**\n",
    "\n",
    "In the next cell enter your db2 connection string. Recall you created Service Credentials for your Db2 instance before. From the **uri** field of your Db2 service credentials copy everything after db2:// (except the double quote at the end) and paste it in the cell below after ibm_db_sa://\n",
    "\n",
    "<img src =\"https://cf-courses-data.s3.us.cloud-object-storage.appdomain.cloud/IBMDeveloperSkillsNetwork-DB0201EN-SkillsNetwork/labs/FinalModule_edX/images/URI.jpg\">\n",
    "\n",
    "in the following format\n",
    "\n",
    "**%sql ibm_db_sa://my-username:my-password\\@my-hostname:my-port/my-db-name**\n",
    "\n",
    "**DB2 magic in case of new UI service credentials.**\n",
    "\n",
    "<img src =\"https://cf-courses-data.s3.us.cloud-object-storage.appdomain.cloud/IBM-DS0321EN-SkillsNetwork/labs/module_2/images/servicecredentials.png\" width=600>  \n",
    "\n",
    "*   Use the following format.\n",
    "\n",
    "*   Add security=SSL at the end\n",
    "\n",
    "**%sql ibm_db_sa://my-username:my-password\\@my-hostname:my-port/my-db-name?security=SSL**\n"
   ]
  },
  {
   "cell_type": "code",
   "execution_count": 4,
   "metadata": {},
   "outputs": [],
   "source": [
    "# %sql ibm_db_sa://"
   ]
  },
  {
   "cell_type": "markdown",
   "metadata": {},
   "source": [
    "## Tasks\n",
    "\n",
    "Now write and execute SQL queries to solve the assignment tasks.\n",
    "\n",
    "### Task 1\n",
    "\n",
    "##### Display the names of the unique launch sites  in the space mission\n"
   ]
  },
  {
   "cell_type": "code",
   "execution_count": 5,
   "metadata": {},
   "outputs": [
    {
     "name": "stdout",
     "output_type": "stream",
     "text": [
      " * ibm_db_sa://zpw86771:***@fbd88901-ebdb-4a4f-a32e-9822b9fb237b.c1ogj3sd0tgtu0lqde00.databases.appdomain.cloud:32731/bludb\n",
      "Done.\n"
     ]
    },
    {
     "data": {
      "text/html": [
       "<table>\n",
       "    <thead>\n",
       "        <tr>\n",
       "            <th>Launch_Sites</th>\n",
       "        </tr>\n",
       "    </thead>\n",
       "    <tbody>\n",
       "        <tr>\n",
       "            <td>CCAFS LC-40</td>\n",
       "        </tr>\n",
       "        <tr>\n",
       "            <td>CCAFS SLC-40</td>\n",
       "        </tr>\n",
       "        <tr>\n",
       "            <td>KSC LC-39A</td>\n",
       "        </tr>\n",
       "        <tr>\n",
       "            <td>VAFB SLC-4E</td>\n",
       "        </tr>\n",
       "    </tbody>\n",
       "</table>"
      ],
      "text/plain": [
       "[('CCAFS LC-40',), ('CCAFS SLC-40',), ('KSC LC-39A',), ('VAFB SLC-4E',)]"
      ]
     },
     "execution_count": 5,
     "metadata": {},
     "output_type": "execute_result"
    }
   ],
   "source": [
    "%sql SELECT DISTINCT LAUNCH_SITE as \"Launch_Sites\" FROM SPACEX;"
   ]
  },
  {
   "cell_type": "markdown",
   "metadata": {},
   "source": [
    "### Task 2\n",
    "\n",
    "##### Display 5 records where launch sites begin with the string 'CCA'\n"
   ]
  },
  {
   "cell_type": "code",
   "execution_count": 6,
   "metadata": {},
   "outputs": [
    {
     "name": "stdout",
     "output_type": "stream",
     "text": [
      " * ibm_db_sa://zpw86771:***@fbd88901-ebdb-4a4f-a32e-9822b9fb237b.c1ogj3sd0tgtu0lqde00.databases.appdomain.cloud:32731/bludb\n",
      "Done.\n"
     ]
    },
    {
     "data": {
      "text/html": [
       "<table>\n",
       "    <thead>\n",
       "        <tr>\n",
       "            <th>DATE</th>\n",
       "            <th>time__utc_</th>\n",
       "            <th>booster_version</th>\n",
       "            <th>launch_site</th>\n",
       "            <th>payload</th>\n",
       "            <th>payload_mass__kg_</th>\n",
       "            <th>orbit</th>\n",
       "            <th>customer</th>\n",
       "            <th>mission_outcome</th>\n",
       "            <th>landing__outcome</th>\n",
       "        </tr>\n",
       "    </thead>\n",
       "    <tbody>\n",
       "        <tr>\n",
       "            <td>2010-06-04</td>\n",
       "            <td>18:45:00</td>\n",
       "            <td>F9 v1.0  B0003</td>\n",
       "            <td>CCAFS LC-40</td>\n",
       "            <td>Dragon Spacecraft Qualification Unit</td>\n",
       "            <td>0</td>\n",
       "            <td>LEO</td>\n",
       "            <td>SpaceX</td>\n",
       "            <td>Success</td>\n",
       "            <td>Failure (parachute)</td>\n",
       "        </tr>\n",
       "        <tr>\n",
       "            <td>2010-12-08</td>\n",
       "            <td>15:43:00</td>\n",
       "            <td>F9 v1.0  B0004</td>\n",
       "            <td>CCAFS LC-40</td>\n",
       "            <td>Dragon demo flight C1, two CubeSats, barrel of Brouere cheese</td>\n",
       "            <td>0</td>\n",
       "            <td>LEO (ISS)</td>\n",
       "            <td>NASA (COTS) NRO</td>\n",
       "            <td>Success</td>\n",
       "            <td>Failure (parachute)</td>\n",
       "        </tr>\n",
       "        <tr>\n",
       "            <td>2012-05-22</td>\n",
       "            <td>07:44:00</td>\n",
       "            <td>F9 v1.0  B0005</td>\n",
       "            <td>CCAFS LC-40</td>\n",
       "            <td>Dragon demo flight C2</td>\n",
       "            <td>525</td>\n",
       "            <td>LEO (ISS)</td>\n",
       "            <td>NASA (COTS)</td>\n",
       "            <td>Success</td>\n",
       "            <td>No attempt</td>\n",
       "        </tr>\n",
       "        <tr>\n",
       "            <td>2012-10-08</td>\n",
       "            <td>00:35:00</td>\n",
       "            <td>F9 v1.0  B0006</td>\n",
       "            <td>CCAFS LC-40</td>\n",
       "            <td>SpaceX CRS-1</td>\n",
       "            <td>500</td>\n",
       "            <td>LEO (ISS)</td>\n",
       "            <td>NASA (CRS)</td>\n",
       "            <td>Success</td>\n",
       "            <td>No attempt</td>\n",
       "        </tr>\n",
       "        <tr>\n",
       "            <td>2013-03-01</td>\n",
       "            <td>15:10:00</td>\n",
       "            <td>F9 v1.0  B0007</td>\n",
       "            <td>CCAFS LC-40</td>\n",
       "            <td>SpaceX CRS-2</td>\n",
       "            <td>677</td>\n",
       "            <td>LEO (ISS)</td>\n",
       "            <td>NASA (CRS)</td>\n",
       "            <td>Success</td>\n",
       "            <td>No attempt</td>\n",
       "        </tr>\n",
       "    </tbody>\n",
       "</table>"
      ],
      "text/plain": [
       "[(datetime.date(2010, 6, 4), datetime.time(18, 45), 'F9 v1.0  B0003', 'CCAFS LC-40', 'Dragon Spacecraft Qualification Unit', 0, 'LEO', 'SpaceX', 'Success', 'Failure (parachute)'),\n",
       " (datetime.date(2010, 12, 8), datetime.time(15, 43), 'F9 v1.0  B0004', 'CCAFS LC-40', 'Dragon demo flight C1, two CubeSats, barrel of Brouere cheese', 0, 'LEO (ISS)', 'NASA (COTS) NRO', 'Success', 'Failure (parachute)'),\n",
       " (datetime.date(2012, 5, 22), datetime.time(7, 44), 'F9 v1.0  B0005', 'CCAFS LC-40', 'Dragon demo flight C2', 525, 'LEO (ISS)', 'NASA (COTS)', 'Success', 'No attempt'),\n",
       " (datetime.date(2012, 10, 8), datetime.time(0, 35), 'F9 v1.0  B0006', 'CCAFS LC-40', 'SpaceX CRS-1', 500, 'LEO (ISS)', 'NASA (CRS)', 'Success', 'No attempt'),\n",
       " (datetime.date(2013, 3, 1), datetime.time(15, 10), 'F9 v1.0  B0007', 'CCAFS LC-40', 'SpaceX CRS-2', 677, 'LEO (ISS)', 'NASA (CRS)', 'Success', 'No attempt')]"
      ]
     },
     "execution_count": 6,
     "metadata": {},
     "output_type": "execute_result"
    }
   ],
   "source": [
    "%sql SELECT * FROM SPACEX WHERE LAUNCH_SITE LIKE 'CCA%' LIMIT 5;"
   ]
  },
  {
   "cell_type": "markdown",
   "metadata": {},
   "source": [
    "### Task 3\n",
    "\n",
    "##### Display the total payload mass carried by boosters launched by NASA (CRS)\n"
   ]
  },
  {
   "cell_type": "code",
   "execution_count": 7,
   "metadata": {
    "scrolled": true
   },
   "outputs": [
    {
     "name": "stdout",
     "output_type": "stream",
     "text": [
      " * ibm_db_sa://zpw86771:***@fbd88901-ebdb-4a4f-a32e-9822b9fb237b.c1ogj3sd0tgtu0lqde00.databases.appdomain.cloud:32731/bludb\n",
      "Done.\n"
     ]
    },
    {
     "data": {
      "text/html": [
       "<table>\n",
       "    <thead>\n",
       "        <tr>\n",
       "            <th>Total Payload Mass by NASA (CRS)</th>\n",
       "        </tr>\n",
       "    </thead>\n",
       "    <tbody>\n",
       "        <tr>\n",
       "            <td>45596</td>\n",
       "        </tr>\n",
       "    </tbody>\n",
       "</table>"
      ],
      "text/plain": [
       "[(45596,)]"
      ]
     },
     "execution_count": 7,
     "metadata": {},
     "output_type": "execute_result"
    }
   ],
   "source": [
    "%sql SELECT SUM(PAYLOAD_MASS__KG_) AS \"Total Payload Mass by NASA (CRS)\" FROM SPACEX WHERE CUSTOMER = 'NASA (CRS)';"
   ]
  },
  {
   "cell_type": "markdown",
   "metadata": {},
   "source": [
    "### Task 4\n",
    "\n",
    "##### Display average payload mass carried by booster version F9 v1.1\n"
   ]
  },
  {
   "cell_type": "code",
   "execution_count": 8,
   "metadata": {},
   "outputs": [
    {
     "name": "stdout",
     "output_type": "stream",
     "text": [
      " * ibm_db_sa://zpw86771:***@fbd88901-ebdb-4a4f-a32e-9822b9fb237b.c1ogj3sd0tgtu0lqde00.databases.appdomain.cloud:32731/bludb\n",
      "Done.\n"
     ]
    },
    {
     "data": {
      "text/html": [
       "<table>\n",
       "    <thead>\n",
       "        <tr>\n",
       "            <th>Average Payload Mass by Booster Version F9 v1.1</th>\n",
       "        </tr>\n",
       "    </thead>\n",
       "    <tbody>\n",
       "        <tr>\n",
       "            <td>2928</td>\n",
       "        </tr>\n",
       "    </tbody>\n",
       "</table>"
      ],
      "text/plain": [
       "[(2928,)]"
      ]
     },
     "execution_count": 8,
     "metadata": {},
     "output_type": "execute_result"
    }
   ],
   "source": [
    "%sql SELECT AVG(PAYLOAD_MASS__KG_) AS \"Average Payload Mass by Booster Version F9 v1.1\" FROM SPACEX \\\n",
    "WHERE BOOSTER_VERSION = 'F9 v1.1';"
   ]
  },
  {
   "cell_type": "markdown",
   "metadata": {},
   "source": [
    "### Task 5\n",
    "\n",
    "##### List the date when the first succesful landing outcome in ground pad was acheived.\n",
    "\n",
    "*Hint:Use min function*\n"
   ]
  },
  {
   "cell_type": "code",
   "execution_count": 9,
   "metadata": {},
   "outputs": [
    {
     "name": "stdout",
     "output_type": "stream",
     "text": [
      " * ibm_db_sa://zpw86771:***@fbd88901-ebdb-4a4f-a32e-9822b9fb237b.c1ogj3sd0tgtu0lqde00.databases.appdomain.cloud:32731/bludb\n",
      "Done.\n"
     ]
    },
    {
     "data": {
      "text/html": [
       "<table>\n",
       "    <thead>\n",
       "        <tr>\n",
       "            <th>First Succesful Landing Outcome in Ground Pad</th>\n",
       "        </tr>\n",
       "    </thead>\n",
       "    <tbody>\n",
       "        <tr>\n",
       "            <td>2015-12-22</td>\n",
       "        </tr>\n",
       "    </tbody>\n",
       "</table>"
      ],
      "text/plain": [
       "[(datetime.date(2015, 12, 22),)]"
      ]
     },
     "execution_count": 9,
     "metadata": {},
     "output_type": "execute_result"
    }
   ],
   "source": [
    "%sql SELECT MIN(DATE) AS \"First Succesful Landing Outcome in Ground Pad\" FROM SPACEX \\\n",
    "WHERE LANDING__OUTCOME = 'Success (ground pad)';"
   ]
  },
  {
   "cell_type": "markdown",
   "metadata": {},
   "source": [
    "### Task 6\n",
    "\n",
    "##### List the names of the boosters which have success in drone ship and have payload mass greater than 4000 but less than 6000\n"
   ]
  },
  {
   "cell_type": "code",
   "execution_count": 10,
   "metadata": {},
   "outputs": [
    {
     "name": "stdout",
     "output_type": "stream",
     "text": [
      " * ibm_db_sa://zpw86771:***@fbd88901-ebdb-4a4f-a32e-9822b9fb237b.c1ogj3sd0tgtu0lqde00.databases.appdomain.cloud:32731/bludb\n",
      "Done.\n"
     ]
    },
    {
     "data": {
      "text/html": [
       "<table>\n",
       "    <thead>\n",
       "        <tr>\n",
       "            <th>booster_version</th>\n",
       "        </tr>\n",
       "    </thead>\n",
       "    <tbody>\n",
       "        <tr>\n",
       "            <td>F9 FT B1022</td>\n",
       "        </tr>\n",
       "        <tr>\n",
       "            <td>F9 FT B1026</td>\n",
       "        </tr>\n",
       "        <tr>\n",
       "            <td>F9 FT  B1021.2</td>\n",
       "        </tr>\n",
       "        <tr>\n",
       "            <td>F9 FT  B1031.2</td>\n",
       "        </tr>\n",
       "    </tbody>\n",
       "</table>"
      ],
      "text/plain": [
       "[('F9 FT B1022',), ('F9 FT B1026',), ('F9 FT  B1021.2',), ('F9 FT  B1031.2',)]"
      ]
     },
     "execution_count": 10,
     "metadata": {},
     "output_type": "execute_result"
    }
   ],
   "source": [
    "%sql SELECT BOOSTER_VERSION FROM SPACEX WHERE LANDING__OUTCOME = 'Success (drone ship)' \\\n",
    "AND PAYLOAD_MASS__KG_ > 4000 AND PAYLOAD_MASS__KG_ < 6000;"
   ]
  },
  {
   "cell_type": "markdown",
   "metadata": {},
   "source": [
    "### Task 7\n",
    "\n",
    "##### List the total number of successful and failure mission outcomes\n"
   ]
  },
  {
   "cell_type": "code",
   "execution_count": 11,
   "metadata": {},
   "outputs": [
    {
     "name": "stdout",
     "output_type": "stream",
     "text": [
      " * ibm_db_sa://zpw86771:***@fbd88901-ebdb-4a4f-a32e-9822b9fb237b.c1ogj3sd0tgtu0lqde00.databases.appdomain.cloud:32731/bludb\n",
      "Done.\n"
     ]
    },
    {
     "data": {
      "text/html": [
       "<table>\n",
       "    <thead>\n",
       "        <tr>\n",
       "            <th>Successful Mission</th>\n",
       "        </tr>\n",
       "    </thead>\n",
       "    <tbody>\n",
       "        <tr>\n",
       "            <td>100</td>\n",
       "        </tr>\n",
       "    </tbody>\n",
       "</table>"
      ],
      "text/plain": [
       "[(100,)]"
      ]
     },
     "execution_count": 11,
     "metadata": {},
     "output_type": "execute_result"
    }
   ],
   "source": [
    "%sql SELECT COUNT(MISSION_OUTCOME) AS \"Successful Mission\" FROM SPACEX WHERE MISSION_OUTCOME LIKE 'Success%';"
   ]
  },
  {
   "cell_type": "code",
   "execution_count": 12,
   "metadata": {},
   "outputs": [
    {
     "name": "stdout",
     "output_type": "stream",
     "text": [
      " * ibm_db_sa://zpw86771:***@fbd88901-ebdb-4a4f-a32e-9822b9fb237b.c1ogj3sd0tgtu0lqde00.databases.appdomain.cloud:32731/bludb\n",
      "Done.\n"
     ]
    },
    {
     "data": {
      "text/html": [
       "<table>\n",
       "    <thead>\n",
       "        <tr>\n",
       "            <th>Failure Mission</th>\n",
       "        </tr>\n",
       "    </thead>\n",
       "    <tbody>\n",
       "        <tr>\n",
       "            <td>1</td>\n",
       "        </tr>\n",
       "    </tbody>\n",
       "</table>"
      ],
      "text/plain": [
       "[(1,)]"
      ]
     },
     "execution_count": 12,
     "metadata": {},
     "output_type": "execute_result"
    }
   ],
   "source": [
    "%sql SELECT COUNT(MISSION_OUTCOME) AS \"Failure Mission\" FROM SPACEX WHERE MISSION_OUTCOME LIKE 'Failure%';"
   ]
  },
  {
   "cell_type": "code",
   "execution_count": 13,
   "metadata": {},
   "outputs": [
    {
     "name": "stdout",
     "output_type": "stream",
     "text": [
      " * ibm_db_sa://zpw86771:***@fbd88901-ebdb-4a4f-a32e-9822b9fb237b.c1ogj3sd0tgtu0lqde00.databases.appdomain.cloud:32731/bludb\n",
      "Done.\n"
     ]
    },
    {
     "data": {
      "text/html": [
       "<table>\n",
       "    <thead>\n",
       "        <tr>\n",
       "            <th>Total Number of Successful and Failure Mission</th>\n",
       "        </tr>\n",
       "    </thead>\n",
       "    <tbody>\n",
       "        <tr>\n",
       "            <td>101</td>\n",
       "        </tr>\n",
       "    </tbody>\n",
       "</table>"
      ],
      "text/plain": [
       "[(101,)]"
      ]
     },
     "execution_count": 13,
     "metadata": {},
     "output_type": "execute_result"
    }
   ],
   "source": [
    "%sql SELECT COUNT(MISSION_OUTCOME) AS \"Total Number of Successful and Failure Mission\" FROM SPACEX \\\n",
    "WHERE MISSION_OUTCOME LIKE 'Success%' OR MISSION_OUTCOME LIKE 'Failure%';"
   ]
  },
  {
   "cell_type": "code",
   "execution_count": 14,
   "metadata": {},
   "outputs": [
    {
     "name": "stdout",
     "output_type": "stream",
     "text": [
      " * ibm_db_sa://zpw86771:***@fbd88901-ebdb-4a4f-a32e-9822b9fb237b.c1ogj3sd0tgtu0lqde00.databases.appdomain.cloud:32731/bludb\n",
      "Done.\n"
     ]
    },
    {
     "data": {
      "text/html": [
       "<table>\n",
       "    <thead>\n",
       "        <tr>\n",
       "            <th>Successful Mission</th>\n",
       "            <th>Failure Mission</th>\n",
       "        </tr>\n",
       "    </thead>\n",
       "    <tbody>\n",
       "        <tr>\n",
       "            <td>100</td>\n",
       "            <td>1</td>\n",
       "        </tr>\n",
       "    </tbody>\n",
       "</table>"
      ],
      "text/plain": [
       "[(100, 1)]"
      ]
     },
     "execution_count": 14,
     "metadata": {},
     "output_type": "execute_result"
    }
   ],
   "source": [
    "%sql SELECT sum(case when MISSION_OUTCOME LIKE '%Success%' then 1 else 0 end) AS \"Successful Mission\", \\\n",
    "    sum(case when MISSION_OUTCOME LIKE '%Failure%' then 1 else 0 end) AS \"Failure Mission\" \\\n",
    "FROM SPACEX;"
   ]
  },
  {
   "cell_type": "markdown",
   "metadata": {},
   "source": [
    "### Task 8\n",
    "\n",
    "##### List the   names of the booster_versions which have carried the maximum payload mass. Use a subquery\n"
   ]
  },
  {
   "cell_type": "code",
   "execution_count": 15,
   "metadata": {},
   "outputs": [
    {
     "name": "stdout",
     "output_type": "stream",
     "text": [
      " * ibm_db_sa://zpw86771:***@fbd88901-ebdb-4a4f-a32e-9822b9fb237b.c1ogj3sd0tgtu0lqde00.databases.appdomain.cloud:32731/bludb\n",
      "Done.\n"
     ]
    },
    {
     "data": {
      "text/html": [
       "<table>\n",
       "    <thead>\n",
       "        <tr>\n",
       "            <th>Booster Versions which carried the Maximum Payload Mass</th>\n",
       "        </tr>\n",
       "    </thead>\n",
       "    <tbody>\n",
       "        <tr>\n",
       "            <td>F9 B5 B1048.4</td>\n",
       "        </tr>\n",
       "        <tr>\n",
       "            <td>F9 B5 B1048.5</td>\n",
       "        </tr>\n",
       "        <tr>\n",
       "            <td>F9 B5 B1049.4</td>\n",
       "        </tr>\n",
       "        <tr>\n",
       "            <td>F9 B5 B1049.5</td>\n",
       "        </tr>\n",
       "        <tr>\n",
       "            <td>F9 B5 B1049.7</td>\n",
       "        </tr>\n",
       "        <tr>\n",
       "            <td>F9 B5 B1051.3</td>\n",
       "        </tr>\n",
       "        <tr>\n",
       "            <td>F9 B5 B1051.4</td>\n",
       "        </tr>\n",
       "        <tr>\n",
       "            <td>F9 B5 B1051.6</td>\n",
       "        </tr>\n",
       "        <tr>\n",
       "            <td>F9 B5 B1056.4</td>\n",
       "        </tr>\n",
       "        <tr>\n",
       "            <td>F9 B5 B1058.3</td>\n",
       "        </tr>\n",
       "        <tr>\n",
       "            <td>F9 B5 B1060.2</td>\n",
       "        </tr>\n",
       "        <tr>\n",
       "            <td>F9 B5 B1060.3</td>\n",
       "        </tr>\n",
       "    </tbody>\n",
       "</table>"
      ],
      "text/plain": [
       "[('F9 B5 B1048.4',),\n",
       " ('F9 B5 B1048.5',),\n",
       " ('F9 B5 B1049.4',),\n",
       " ('F9 B5 B1049.5',),\n",
       " ('F9 B5 B1049.7',),\n",
       " ('F9 B5 B1051.3',),\n",
       " ('F9 B5 B1051.4',),\n",
       " ('F9 B5 B1051.6',),\n",
       " ('F9 B5 B1056.4',),\n",
       " ('F9 B5 B1058.3',),\n",
       " ('F9 B5 B1060.2',),\n",
       " ('F9 B5 B1060.3',)]"
      ]
     },
     "execution_count": 15,
     "metadata": {},
     "output_type": "execute_result"
    }
   ],
   "source": [
    "%sql SELECT DISTINCT BOOSTER_VERSION AS \"Booster Versions which carried the Maximum Payload Mass\" FROM SPACEX \\\n",
    "WHERE PAYLOAD_MASS__KG_ =(SELECT MAX(PAYLOAD_MASS__KG_) FROM SPACEX);"
   ]
  },
  {
   "cell_type": "markdown",
   "metadata": {},
   "source": [
    "### Task 9\n",
    "\n",
    "##### List the failed landing_outcomes in drone ship, their booster versions, and launch site names for the in year 2015\n"
   ]
  },
  {
   "cell_type": "code",
   "execution_count": 16,
   "metadata": {},
   "outputs": [
    {
     "name": "stdout",
     "output_type": "stream",
     "text": [
      " * ibm_db_sa://zpw86771:***@fbd88901-ebdb-4a4f-a32e-9822b9fb237b.c1ogj3sd0tgtu0lqde00.databases.appdomain.cloud:32731/bludb\n",
      "Done.\n"
     ]
    },
    {
     "data": {
      "text/html": [
       "<table>\n",
       "    <thead>\n",
       "        <tr>\n",
       "            <th>booster_version</th>\n",
       "            <th>launch_site</th>\n",
       "        </tr>\n",
       "    </thead>\n",
       "    <tbody>\n",
       "        <tr>\n",
       "            <td>F9 v1.1 B1012</td>\n",
       "            <td>CCAFS LC-40</td>\n",
       "        </tr>\n",
       "        <tr>\n",
       "            <td>F9 v1.1 B1015</td>\n",
       "            <td>CCAFS LC-40</td>\n",
       "        </tr>\n",
       "    </tbody>\n",
       "</table>"
      ],
      "text/plain": [
       "[('F9 v1.1 B1012', 'CCAFS LC-40'), ('F9 v1.1 B1015', 'CCAFS LC-40')]"
      ]
     },
     "execution_count": 16,
     "metadata": {},
     "output_type": "execute_result"
    }
   ],
   "source": [
    "%sql SELECT BOOSTER_VERSION, LAUNCH_SITE FROM SPACEX WHERE DATE LIKE '2015-%' AND \\\n",
    "LANDING__OUTCOME = 'Failure (drone ship)';"
   ]
  },
  {
   "cell_type": "code",
   "execution_count": 17,
   "metadata": {},
   "outputs": [
    {
     "name": "stdout",
     "output_type": "stream",
     "text": [
      " * ibm_db_sa://zpw86771:***@fbd88901-ebdb-4a4f-a32e-9822b9fb237b.c1ogj3sd0tgtu0lqde00.databases.appdomain.cloud:32731/bludb\n",
      "Done.\n"
     ]
    },
    {
     "data": {
      "text/html": [
       "<table>\n",
       "    <thead>\n",
       "        <tr>\n",
       "            <th>booster_version</th>\n",
       "            <th>launch_site</th>\n",
       "        </tr>\n",
       "    </thead>\n",
       "    <tbody>\n",
       "        <tr>\n",
       "            <td>F9 v1.1 B1012</td>\n",
       "            <td>CCAFS LC-40</td>\n",
       "        </tr>\n",
       "        <tr>\n",
       "            <td>F9 v1.1 B1015</td>\n",
       "            <td>CCAFS LC-40</td>\n",
       "        </tr>\n",
       "    </tbody>\n",
       "</table>"
      ],
      "text/plain": [
       "[('F9 v1.1 B1012', 'CCAFS LC-40'), ('F9 v1.1 B1015', 'CCAFS LC-40')]"
      ]
     },
     "execution_count": 17,
     "metadata": {},
     "output_type": "execute_result"
    }
   ],
   "source": [
    "%sql SELECT BOOSTER_VERSION, LAUNCH_SITE FROM SPACEX WHERE year(DATE) = '2015' AND \\\n",
    "LANDING__OUTCOME = 'Failure (drone ship)';"
   ]
  },
  {
   "cell_type": "code",
   "execution_count": 18,
   "metadata": {},
   "outputs": [
    {
     "name": "stdout",
     "output_type": "stream",
     "text": [
      " * ibm_db_sa://zpw86771:***@fbd88901-ebdb-4a4f-a32e-9822b9fb237b.c1ogj3sd0tgtu0lqde00.databases.appdomain.cloud:32731/bludb\n",
      "Done.\n"
     ]
    },
    {
     "data": {
      "text/html": [
       "<table>\n",
       "    <thead>\n",
       "        <tr>\n",
       "            <th>MONTH</th>\n",
       "            <th>booster_version</th>\n",
       "            <th>launch_site</th>\n",
       "        </tr>\n",
       "    </thead>\n",
       "    <tbody>\n",
       "        <tr>\n",
       "            <td>1</td>\n",
       "            <td>F9 v1.1 B1012</td>\n",
       "            <td>CCAFS LC-40</td>\n",
       "        </tr>\n",
       "        <tr>\n",
       "            <td>4</td>\n",
       "            <td>F9 v1.1 B1015</td>\n",
       "            <td>CCAFS LC-40</td>\n",
       "        </tr>\n",
       "    </tbody>\n",
       "</table>"
      ],
      "text/plain": [
       "[(1, 'F9 v1.1 B1012', 'CCAFS LC-40'), (4, 'F9 v1.1 B1015', 'CCAFS LC-40')]"
      ]
     },
     "execution_count": 18,
     "metadata": {},
     "output_type": "execute_result"
    }
   ],
   "source": [
    "%sql SELECT month(DATE) as Month, BOOSTER_VERSION, LAUNCH_SITE FROM SPACEX WHERE year(DATE) = '2015' AND \\\n",
    "LANDING__OUTCOME = 'Failure (drone ship)';"
   ]
  },
  {
   "cell_type": "code",
   "execution_count": 19,
   "metadata": {},
   "outputs": [
    {
     "name": "stdout",
     "output_type": "stream",
     "text": [
      " * ibm_db_sa://zpw86771:***@fbd88901-ebdb-4a4f-a32e-9822b9fb237b.c1ogj3sd0tgtu0lqde00.databases.appdomain.cloud:32731/bludb\n",
      "Done.\n"
     ]
    },
    {
     "data": {
      "text/html": [
       "<table>\n",
       "    <thead>\n",
       "        <tr>\n",
       "            <th>Month</th>\n",
       "            <th>booster_version</th>\n",
       "            <th>launch_site</th>\n",
       "        </tr>\n",
       "    </thead>\n",
       "    <tbody>\n",
       "        <tr>\n",
       "            <td>January</td>\n",
       "            <td>F9 v1.1 B1012</td>\n",
       "            <td>CCAFS LC-40</td>\n",
       "        </tr>\n",
       "        <tr>\n",
       "            <td>April</td>\n",
       "            <td>F9 v1.1 B1015</td>\n",
       "            <td>CCAFS LC-40</td>\n",
       "        </tr>\n",
       "    </tbody>\n",
       "</table>"
      ],
      "text/plain": [
       "[('January', 'F9 v1.1 B1012', 'CCAFS LC-40'),\n",
       " ('April', 'F9 v1.1 B1015', 'CCAFS LC-40')]"
      ]
     },
     "execution_count": 19,
     "metadata": {},
     "output_type": "execute_result"
    }
   ],
   "source": [
    "%sql SELECT {fn MONTHNAME(DATE)} as \"Month\", BOOSTER_VERSION, LAUNCH_SITE FROM SPACEX WHERE year(DATE) = '2015' AND \\\n",
    "LANDING__OUTCOME = 'Failure (drone ship)';"
   ]
  },
  {
   "cell_type": "markdown",
   "metadata": {},
   "source": [
    "### Task 10\n",
    "\n",
    "##### Rank the count of landing outcomes (such as Failure (drone ship) or Success (ground pad)) between the date 2010-06-04 and 2017-03-20, in descending order\n"
   ]
  },
  {
   "cell_type": "code",
   "execution_count": 20,
   "metadata": {},
   "outputs": [
    {
     "name": "stdout",
     "output_type": "stream",
     "text": [
      " * ibm_db_sa://zpw86771:***@fbd88901-ebdb-4a4f-a32e-9822b9fb237b.c1ogj3sd0tgtu0lqde00.databases.appdomain.cloud:32731/bludb\n",
      "Done.\n"
     ]
    },
    {
     "data": {
      "text/html": [
       "<table>\n",
       "    <thead>\n",
       "        <tr>\n",
       "            <th>Landing Outcome</th>\n",
       "            <th>Total Count</th>\n",
       "        </tr>\n",
       "    </thead>\n",
       "    <tbody>\n",
       "        <tr>\n",
       "            <td>No attempt</td>\n",
       "            <td>10</td>\n",
       "        </tr>\n",
       "        <tr>\n",
       "            <td>Failure (drone ship)</td>\n",
       "            <td>5</td>\n",
       "        </tr>\n",
       "        <tr>\n",
       "            <td>Success (drone ship)</td>\n",
       "            <td>5</td>\n",
       "        </tr>\n",
       "        <tr>\n",
       "            <td>Controlled (ocean)</td>\n",
       "            <td>3</td>\n",
       "        </tr>\n",
       "        <tr>\n",
       "            <td>Success (ground pad)</td>\n",
       "            <td>3</td>\n",
       "        </tr>\n",
       "        <tr>\n",
       "            <td>Failure (parachute)</td>\n",
       "            <td>2</td>\n",
       "        </tr>\n",
       "        <tr>\n",
       "            <td>Uncontrolled (ocean)</td>\n",
       "            <td>2</td>\n",
       "        </tr>\n",
       "        <tr>\n",
       "            <td>Precluded (drone ship)</td>\n",
       "            <td>1</td>\n",
       "        </tr>\n",
       "    </tbody>\n",
       "</table>"
      ],
      "text/plain": [
       "[('No attempt', 10),\n",
       " ('Failure (drone ship)', 5),\n",
       " ('Success (drone ship)', 5),\n",
       " ('Controlled (ocean)', 3),\n",
       " ('Success (ground pad)', 3),\n",
       " ('Failure (parachute)', 2),\n",
       " ('Uncontrolled (ocean)', 2),\n",
       " ('Precluded (drone ship)', 1)]"
      ]
     },
     "execution_count": 20,
     "metadata": {},
     "output_type": "execute_result"
    }
   ],
   "source": [
    "%sql SELECT LANDING__OUTCOME as \"Landing Outcome\", COUNT(LANDING__OUTCOME) AS \"Total Count\" FROM SPACEX \\\n",
    "WHERE DATE BETWEEN '2010-06-04' AND '2017-03-20' \\\n",
    "GROUP BY  LANDING__OUTCOME \\\n",
    "ORDER BY COUNT(LANDING__OUTCOME) DESC ;"
   ]
  },
  {
   "cell_type": "code",
   "execution_count": 21,
   "metadata": {},
   "outputs": [
    {
     "name": "stdout",
     "output_type": "stream",
     "text": [
      " * ibm_db_sa://zpw86771:***@fbd88901-ebdb-4a4f-a32e-9822b9fb237b.c1ogj3sd0tgtu0lqde00.databases.appdomain.cloud:32731/bludb\n",
      "Done.\n"
     ]
    },
    {
     "data": {
      "text/html": [
       "<table>\n",
       "    <thead>\n",
       "        <tr>\n",
       "            <th>Rank success count between 2010-06-04 and 2017-03-20</th>\n",
       "        </tr>\n",
       "    </thead>\n",
       "    <tbody>\n",
       "        <tr>\n",
       "            <td>8</td>\n",
       "        </tr>\n",
       "    </tbody>\n",
       "</table>"
      ],
      "text/plain": [
       "[(8,)]"
      ]
     },
     "execution_count": 21,
     "metadata": {},
     "output_type": "execute_result"
    }
   ],
   "source": [
    "%sql SELECT COUNT(LANDING__OUTCOME) AS \"Rank success count between 2010-06-04 and 2017-03-20\" FROM SPACEX \\\n",
    "WHERE LANDING__OUTCOME LIKE '%Success%' AND DATE > '2010-06-04' AND DATE < '2017-03-20' ;"
   ]
  },
  {
   "cell_type": "markdown",
   "metadata": {},
   "source": [
    "### Reference Links\n",
    "\n",
    "*   <a href =\"https://cf-courses-data.s3.us.cloud-object-storage.appdomain.cloud/IBMDeveloperSkillsNetwork-DB0201EN-SkillsNetwork/labs/Labs_Coursera_V5/labs/Lab%20-%20String%20Patterns%20-%20Sorting%20-%20Grouping/instructional-labs.md.html?utm_medium=Exinfluencer&utm_source=Exinfluencer&utm_content=000026UJ&utm_term=10006555&utm_id=NA-SkillsNetwork-Channel-SkillsNetworkCoursesIBMDS0321ENSkillsNetwork26802033-2021-01-01&origin=www.coursera.org\">Hands-on Lab : String Patterns, Sorting and Grouping</a>\n",
    "\n",
    "*   <a  href=\"https://cf-courses-data.s3.us.cloud-object-storage.appdomain.cloud/IBMDeveloperSkillsNetwork-DB0201EN-SkillsNetwork/labs/Labs_Coursera_V5/labs/Lab%20-%20Built-in%20functions%20/Hands-on_Lab__Built-in_Functions.md.html?utm_medium=Exinfluencer&utm_source=Exinfluencer&utm_content=000026UJ&utm_term=10006555&utm_id=NA-SkillsNetwork-Channel-SkillsNetworkCoursesIBMDS0321ENSkillsNetwork26802033-2021-01-01&origin=www.coursera.org\">Hands-on Lab: Built-in functions</a>\n",
    "\n",
    "*   <a  href=\"https://cf-courses-data.s3.us.cloud-object-storage.appdomain.cloud/IBMDeveloperSkillsNetwork-DB0201EN-SkillsNetwork/labs/Labs_Coursera_V5/labs/Lab%20-%20Sub-queries%20and%20Nested%20SELECTs%20/instructional-labs.md.html?utm_medium=Exinfluencer&utm_source=Exinfluencer&utm_content=000026UJ&utm_term=10006555&utm_id=NA-SkillsNetwork-Channel-SkillsNetworkCoursesIBMDS0321ENSkillsNetwork26802033-2021-01-01&origin=www.coursera.org\">Hands-on Lab : Sub-queries and Nested SELECT Statements</a>\n",
    "\n",
    "*   <a href=\"https://cf-courses-data.s3.us.cloud-object-storage.appdomain.cloud/IBMDeveloperSkillsNetwork-DB0201EN-SkillsNetwork/labs/Module%205/DB0201EN-Week3-1-3-SQLmagic.ipynb?utm_medium=Exinfluencer&utm_source=Exinfluencer&utm_content=000026UJ&utm_term=10006555&utm_id=NA-SkillsNetwork-Channel-SkillsNetworkCoursesIBMDS0321ENSkillsNetwork26802033-2021-01-01\">Hands-on Tutorial: Accessing Databases with SQL magic</a>\n",
    "\n",
    "*   <a href= \"https://cf-courses-data.s3.us.cloud-object-storage.appdomain.cloud/IBMDeveloperSkillsNetwork-DB0201EN-SkillsNetwork/labs/Module%205/DB0201EN-Week3-1-4-Analyzing.ipynb?utm_medium=Exinfluencer&utm_source=Exinfluencer&utm_content=000026UJ&utm_term=10006555&utm_id=NA-SkillsNetwork-Channel-SkillsNetworkCoursesIBMDS0321ENSkillsNetwork26802033-2021-01-01\">Hands-on Lab: Analyzing a real World Data Set</a>\n"
   ]
  },
  {
   "cell_type": "markdown",
   "metadata": {},
   "source": [
    "## Author(s)\n",
    "\n",
    "<h4> Lakshmi Holla </h4>\n"
   ]
  },
  {
   "cell_type": "markdown",
   "metadata": {},
   "source": [
    "## Other Contributors\n",
    "\n",
    "<h4> Rav Ahuja </h4>\n"
   ]
  },
  {
   "cell_type": "markdown",
   "metadata": {},
   "source": [
    "## Change log\n",
    "\n",
    "| Date       | Version | Changed by    | Change Description        |\n",
    "| ---------- | ------- | ------------- | ------------------------- |\n",
    "| 2021-08-24 | 0.3     | Lakshmi Holla | Added library update      |\n",
    "| 2021-07-09 | 0.2     | Lakshmi Holla | Changes made in magic sql |\n",
    "| 2021-05-20 | 0.1     | Lakshmi Holla | Created Initial Version   |\n"
   ]
  },
  {
   "cell_type": "markdown",
   "metadata": {},
   "source": [
    "## <h3 align=\"center\"> © IBM Corporation 2021. All rights reserved. <h3/>\n"
   ]
  },
  {
   "cell_type": "markdown",
   "metadata": {},
   "source": [
    "Labs completed by __<a href=\"https://www.linkedin.com/in/debdatta-sarkar/\">Debdatta Sarkar</a>__"
   ]
  },
  {
   "cell_type": "markdown",
   "metadata": {},
   "source": [
    "<a href=\"https://github.com/debdattasarkar/SpaceX-Data-Science-Project\">GitHub Files</a>"
   ]
  }
 ],
 "metadata": {
  "kernelspec": {
   "display_name": "Python 3",
   "language": "python",
   "name": "python3"
  },
  "language_info": {
   "codemirror_mode": {
    "name": "ipython",
    "version": 3
   },
   "file_extension": ".py",
   "mimetype": "text/x-python",
   "name": "python",
   "nbconvert_exporter": "python",
   "pygments_lexer": "ipython3",
   "version": "3.8.8"
  }
 },
 "nbformat": 4,
 "nbformat_minor": 4
}
